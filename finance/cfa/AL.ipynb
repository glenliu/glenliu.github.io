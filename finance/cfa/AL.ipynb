{
 "cells": [
  {
   "cell_type": "markdown",
   "metadata": {},
   "source": [
    "## Alternative Investments ##"
   ]
  },
  {
   "cell_type": "markdown",
   "metadata": {},
   "source": [
    "### 1. Concepts ###"
   ]
  },
  {
   "cell_type": "markdown",
   "metadata": {},
   "source": [
    "Buyout funds:\n",
    "  - seek out companies with stable cash flows. \n",
    "  - generally invest in companies with low working capital requirements\n",
    "  - acquire portfolio companies via auction, involving multiple potential acquirers."
   ]
  },
  {
   "cell_type": "markdown",
   "metadata": {},
   "source": [
    "VC funds:\n",
    "  - typically invest in companies with significant cash burn rates.\n",
    "  - are primarily equity funded and typically do not use much leverage.\n",
    "  - Assessment of risk is difficult for the underlying companies."
   ]
  },
  {
   "cell_type": "markdown",
   "metadata": {},
   "source": [
    "PE funds:\n",
    "\n",
    "  - increase value by taking on high levels of debt on favorable terms.\n",
    "  - are able to offset their borrowing costs by superior reorganization and re-engineering capabilities. \n",
    "  - increase value by taking on high levels of debt on favorable terms, rather than equity."
   ]
  },
  {
   "cell_type": "markdown",
   "metadata": {},
   "source": [
    "Exit route:\n",
    "\n",
    "  - The initial public offering (IPO) is the preferred method because it produces the highest valuation multiples with most expensive cost.  \n",
    "  - Secondary market sales provides the second highest valuation multiples after IPOs. Another advantage is providing the portfolio company with the expertise of the new buyer or the ability to merge with another portfolio company to realize synergies and add value to the portfolio company.\n",
    "  - management buyout (MBO), high leverage "
   ]
  },
  {
   "cell_type": "code",
   "execution_count": null,
   "metadata": {
    "collapsed": true
   },
   "outputs": [],
   "source": []
  }
 ],
 "metadata": {
  "kernelspec": {
   "display_name": "Python 2",
   "language": "python",
   "name": "python2"
  },
  "language_info": {
   "codemirror_mode": {
    "name": "ipython",
    "version": 2
   },
   "file_extension": ".py",
   "mimetype": "text/x-python",
   "name": "python",
   "nbconvert_exporter": "python",
   "pygments_lexer": "ipython2",
   "version": "2.7.13"
  }
 },
 "nbformat": 4,
 "nbformat_minor": 2
}
