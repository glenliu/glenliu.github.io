{
 "cells": [
  {
   "cell_type": "markdown",
   "metadata": {},
   "source": [
    "# FSA #"
   ]
  },
  {
   "cell_type": "markdown",
   "metadata": {},
   "source": [
    "## Reading 16 Intercorporate Investments ##\n",
    "by Susan Perry Williams, CPA, CMA, PhD"
   ]
  },
  {
   "cell_type": "markdown",
   "metadata": {},
   "source": [
    "## Reading 17 Employee Compensation: Post-Employment and ShareBased ##\n",
    "by Elaine Henry, PhD, CFA, and Elizabeth A. Gordon, PhD, MBA, CPA"
   ]
  },
  {
   "cell_type": "markdown",
   "metadata": {},
   "source": [
    "## Reading 18 Multinational Operations  ##\n",
    "by Timothy S. Doupnik, PhD, and Elaine Henry, PhD, CFA"
   ]
  },
  {
   "cell_type": "markdown",
   "metadata": {},
   "source": [
    "## Reading 19 Evaluating Quality of Financial Reports ##\n",
    "by Jack T. Ciesielski, Jr., CPA, CFA, Elaine Henry, PhD, CFA, and Thomas I. Selling, PhD, CPA"
   ]
  },
  {
   "cell_type": "markdown",
   "metadata": {},
   "source": [
    "## Reading 20 Integration of Financial Statement Analysis Techniques ##\n",
    "by Jack T. Ciesielski, Jr., CPA, CFA"
   ]
  },
  {
   "cell_type": "code",
   "execution_count": null,
   "metadata": {
    "collapsed": true
   },
   "outputs": [],
   "source": []
  }
 ],
 "metadata": {
  "kernelspec": {
   "display_name": "Python 2",
   "language": "python",
   "name": "python2"
  },
  "language_info": {
   "codemirror_mode": {
    "name": "ipython",
    "version": 2
   },
   "file_extension": ".py",
   "mimetype": "text/x-python",
   "name": "python",
   "nbconvert_exporter": "python",
   "pygments_lexer": "ipython2",
   "version": "2.7.13"
  }
 },
 "nbformat": 4,
 "nbformat_minor": 2
}
