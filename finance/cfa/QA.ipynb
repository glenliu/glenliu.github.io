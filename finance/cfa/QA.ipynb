{
 "cells": [
  {
   "cell_type": "markdown",
   "metadata": {},
   "source": [
    "# QA #"
   ]
  },
  {
   "cell_type": "markdown",
   "metadata": {},
   "source": [
    "## 1. Single Regression ##"
   ]
  },
  {
   "cell_type": "markdown",
   "metadata": {},
   "source": [
    "[LaTex math symbols](http://web.ift.uib.no/Teori/KURS/WRK/TeX/symALL.html)"
   ]
  },
  {
   "cell_type": "markdown",
   "metadata": {},
   "source": [
    "### 1.1 Objective ###\n",
    "     \n",
    " \n",
    "   - Use one variable to predict another\n",
    "   - test hypotheses about the relation\n",
    "   - quantify the strength of the relation\n",
    "     \n",
    " Formula: $Y=b_0+b_1 X_1+\\varepsilon$\n",
    " \n",
    " Interpretation:\n",
    "  - $b_0$: intercept, Y when X is zero;\n",
    "  - $b_1$: $\\Delta Y  per  \\Delta X$, \n",
    "      - sensitivity of Y to a change of X\n",
    "      - a.k.a $\\beta$"
   ]
  },
  {
   "cell_type": "markdown",
   "metadata": {},
   "source": [
    "  ### 1.2 Assumption ###\n",
    "  \n",
    "   1. Linear relationship exists: $\\rho(X,Y) \\neq 0$\n",
    "   \n",
    "   2. $\\rho(X,\\varepsilon)=0 \\Leftrightarrow$ X is not random\n",
    "   \n",
    "   3. $E(\\varepsilon)=0$\n",
    "   \n",
    "   4. $Var(\\varepsilon)$ is constant, otherwise: Heteroskedasticity\n",
    "   \n",
    "   5. $E(\\varepsilon_i\\varepsilon_j)=0$, for all $i \\neq j$, otherwise: serial autocorrelation\n",
    "   \n",
    "   6. $\\varepsilon \\sim N(0,\\sigma^2)$  "
   ]
  },
  {
   "cell_type": "markdown",
   "metadata": {},
   "source": [
    "  ###  1.3 Estimation: ###\n",
    "  calc $b_0, b_1$\n",
    "   - Calculator: STAT, DATA\n",
    "   - OLS\n",
    "   \n",
    "      * $b_1= \\frac{cov(x,y)} {\\sigma_x^2} =\\rho \\frac{\\sigma_y}{\\sigma_x}$\n",
    "    \n",
    "      * $b_0=\\bar{Y}-b_1\\bar{X}$\n",
    "     "
   ]
  },
  {
   "cell_type": "markdown",
   "metadata": {},
   "source": [
    "  ### 1.4 Test ###\n",
    "  \n",
    "  \n",
    "  #### 1.4.1 Violation test ####\n",
    "  \n",
    "  \n",
    "  |Assumption|Affect if not present|Test|Solution|\n",
    "|:----------|:----|:----|:--------|\n",
    "|1. Linear relationship exists|cannot do|$H_0: \\rho = 0$<br>t-test stat = $ \\frac {r \\sqrt {n-2}}{\\sqrt{1-r^2}} $; df=n-2 <br>$\\rho=\\frac{cov(X,Y)}{\\sigma_X \\sigma_Y}$|n/a|\n",
    "|4. No heteroskedasticity|Not affect consistency of estimators<br>Coefficient are not affected<br>Std error are unreliable: too small -> t big -> Type 1 error|B-P test <br> $H_0$: No heteroskedasticity<br>$BP=nR_{residual}^2$, df=k<br>Regress between squared residuals and X:<br> $\\varepsilon^2=b_0+b_1X+\\xi$| White<br> GLS<br>Hansen|\n",
    "|5. No serial autocorrelation|Often found in time series<br>Not affect the consistency<br>Positive serial autocorr is common:<br>-- coefficent std error is too small -> t is big -> Type 1 error, F-test unreliable|D-W test<br>$H_0$:No serial autocorr, DW$\\approx$2(1-r)<br><br>0~d1: Reject, positive serial autocorr<br>d1~du: inconclusive;<br>du~2~(4-du):Not reject<br>4-du~4-d1:inconclusive;<br>4-d1~4:Reject, negative serial autocorr| Hansen,<br> use time series model|\n",
    "  "
   ]
  },
  {
   "cell_type": "markdown",
   "metadata": {},
   "source": [
    " #### 1.4.2 Significance test ####\n",
    "  \n",
    "  - Critical method\n",
    "  \n",
    "  $t= \\frac {\\hat{b_1}-0} {S_{\\hat{b_1}}}, df=n-k-1 $\n",
    "  \n",
    "  $S_{\\hat{b_1}}\\uparrow -> SEE \\uparrow$\n",
    "  \n",
    "     \n",
    "  - Confidence interval\n",
    "  \n",
    "  $\\hat{b_1}\\pm t_cS_{\\hat{b_1}}$\n",
    "  \n",
    "  - p-value < $\\alpha$\n",
    "  \n",
    "  reject $H_0$\n",
    "  \n",
    "  "
   ]
  },
  {
   "cell_type": "markdown",
   "metadata": {},
   "source": [
    " #### 1.4.3 ANOVA test ####\n",
    "  \n",
    "|          |df    |SS   |MSS          |\n",
    "|:---      |:---- |:----|:-----       |\n",
    "|Regression|k=1   |RSS  |MSR=RSS/k    |\n",
    "|Error     |n-k-1 |SSE  |MSE=SSE/(n-2)|\n",
    "|Total     |n-1   |SST  | -           |\n",
    "\n",
    "SSE: Sum of squared errors/residuals, $$SSE=\\sum_{i=1}^n(Y_i-\\hat{Y_i})$$\n",
    "RSS: Regression sum of squares, $$RSS=\\sum_{i=1}^n(\\hat{Y_i}-\\bar{Y_i})$$\n",
    "TSS: Total sum of squares, $$TSS=\\sum_{i=1}^n(Y_i-\\bar{Y_i})$$\n",
    "\n",
    "  - SEE: Standard Error of Estimation, $SEE=\\sqrt{\\frac{SSE}{n-k-1}}=\\sqrt{\\frac{\\sum_{i=1}^{n}{\\varepsilon^2}}{n-k-1}}=\\sqrt{MSE}$\n",
    "  - $R^2$: Coefficient of determination, $R^2= \\frac{RSS}{SST} =1- \\frac{SSE}{SST} $"
   ]
  },
  {
   "cell_type": "markdown",
   "metadata": {},
   "source": [
    "   ### 1.5. Limitation: ###\n",
    " - Outliers\n",
    " - Spurious correlation\n",
    " - Nonlinear relationship"
   ]
  },
  {
   "cell_type": "markdown",
   "metadata": {},
   "source": [
    "### 1.6 Forecast ###\n",
    "- point estimate\n",
    "\n",
    "$ \\hat{Y} = \\hat{b_0}\\pm \\hat{b_1}X$\n",
    "\n",
    " - interval estimate\n",
    " \n",
    "$\\hat{Y}\\pm t_c S_f$\n",
    "\n",
    "$t_c$: critical t-value with df=n-2\n",
    "\n",
    "- standard error of forecast\n",
    "\n",
    "$S_f$: standard error of the forecast\n",
    "$S_f=SEE \\times \\sqrt{1+\\frac1n+\\frac{(X- \\bar{X})^2}{(n-1)S_x^2}}=SEE \\times \\sqrt{1+\\frac1n+\\frac{(X- \\bar{X})^2}{\\sum{(X_i- \\bar{X})^2}}}$"
   ]
  },
  {
   "cell_type": "markdown",
   "metadata": {},
   "source": [
    "## 2. Multiple Regression ##"
   ]
  },
  {
   "cell_type": "markdown",
   "metadata": {},
   "source": [
    "### 2.1 Objective ###\n",
    "\n",
    "Formula:\n",
    "\n",
    "$Y=b_0+b_1 X_1+b_2 X_2+...+b_k X_k+\\varepsilon$"
   ]
  },
  {
   "cell_type": "markdown",
   "metadata": {},
   "source": [
    "### 2.2 Assumption ###\n",
    "\n",
    "Same as those for single regression, plus:\n",
    "   \n",
    " -  $\\rho(X_i,X_j)=0$, otherwise: Multicollinearity"
   ]
  },
  {
   "cell_type": "markdown",
   "metadata": {},
   "source": [
    "### 2.3 Estimation ###\n",
    "\n",
    "  calc $b_0, b_1,b_2, ..., b_k$\n",
    "   - CANNOT use calculator\n",
    "   - CANNOT use OLS"
   ]
  },
  {
   "cell_type": "markdown",
   "metadata": {},
   "source": [
    "### 2.4 Test ###"
   ]
  },
  {
   "cell_type": "markdown",
   "metadata": {},
   "source": [
    "#### 2.4.1 Violation test ####"
   ]
  },
  {
   "cell_type": "markdown",
   "metadata": {},
   "source": [
    "Same as those for single regression, plus:\n",
    "\n",
    "|Assumption|Affect if present|Test|Solution|\n",
    "|:----------|:----|:----|:--------|\n",
    "|1. Linear relationship exists|cannot do|t-test $H_0: b_j = 0$<br>t-test stat = $ \\frac {b_j-0}{S\\hat{b_j}} $, df=n-k-1<br> F-test:<br>$H_0: b_1=b_2=..b_k=0$<br>$F=\\frac{MSR}{MSE}=\\frac{RSS/k}{SSE/(n-k-1)}$|n/a|\n",
    "|4. No heteroskedasticity|Not affect consistency of estimators<br>Coefficient are not affected<br>Std error are unreliable: too small -> t big -> Type 1 error|B-P test <br> $H_0$: No heteroskedasticity<br>$BP=nR_{residual}^2$, df=k<br>Regress between squared residuals and X:<br> $\\varepsilon^2=b_0+b_1X+\\xi$| White<br> GLS<br>Hansen|\n",
    "|5. No serial autocorrelation|Often found in time series<br>Not affect the consistency<br>Positive serial autocorr is common:<br>-- coefficent std error is too small -> t is big -> Type 1 error, F-test unreliable <br>Negative autocorr, Type II error|D-W test<br>$H_0$:No serial autocorr,<br> DW$\\approx$2(1-r)<br><br>0~d1: Reject, positive serial autocorr<br>d1~du: inconclusive;<br>du~2~(4-du):Not reject<br>4-du~4-d1:inconclusive;<br>4-d1~4:Reject, negative serial autocorr| Hansen,<br> use time series model|\n",
    "  |Multicollinearity|Type I/II error|1.All t-test fail to reject & F-test reject & High $R^2$ <br> 2. abs(r)>0.7 <br>3. Common sense|Remove variable (which reduce smallest $R^2$)|"
   ]
  },
  {
   "cell_type": "markdown",
   "metadata": {},
   "source": [
    "#### 2.4.2 Significance test ####"
   ]
  },
  {
   "cell_type": "markdown",
   "metadata": {},
   "source": [
    "#### 2.4.3 ANOVA test ####\n",
    "\n",
    "Same as those for single regression, with exception that k>1, plus:\n",
    "\n",
    "Adjusted $R^2=1-\\frac {\\frac{SSE}{n-k-1}}{\\frac{SST}{n-1}} \\leq R^2$, may less than 0"
   ]
  },
  {
   "cell_type": "markdown",
   "metadata": {},
   "source": [
    "### 2.5 Limitation ###\n",
    "\n",
    "- Variables are ommitted\n",
    "- Variables need to be transmitted\n",
    "- Different samples\n",
    "\n",
    "### 2.6 Dummy variable ###\n",
    "\n",
    "Qualitative, n-1 variable for n classifications.\n",
    "\n",
    "### 2.7 Forecast ###\n",
    "\n",
    " - point estimate\n",
    " - interval:  $\\hat{Y}\\pm t_c S_{\\hat{Y}}$\n",
    " - standard error of forecast"
   ]
  },
  {
   "cell_type": "markdown",
   "metadata": {},
   "source": [
    "## 3. Time Series ##"
   ]
  },
  {
   "cell_type": "markdown",
   "metadata": {},
   "source": [
    "### 3.1 Trend model ###"
   ]
  },
  {
   "cell_type": "markdown",
   "metadata": {},
   "source": [
    "Formula:\n",
    "\n",
    "$Y=b_0+b_1t+\\varepsilon$"
   ]
  },
  {
   "cell_type": "markdown",
   "metadata": {},
   "source": [
    "### 3.2 AR(p) model ###"
   ]
  },
  {
   "cell_type": "markdown",
   "metadata": {},
   "source": [
    "#### 3.2.1 Fomula ####"
   ]
  },
  {
   "cell_type": "markdown",
   "metadata": {},
   "source": [
    "$Y_t=b_0+b_1Y_{t-1}+b_2Y_{t-2}+...+b_pY_{t-p}+\\varepsilon$"
   ]
  },
  {
   "cell_type": "markdown",
   "metadata": {},
   "source": [
    "#### 3.2.2 Assumption ####"
   ]
  },
  {
   "cell_type": "markdown",
   "metadata": {},
   "source": [
    "|Assumption|Affect if present|Test|Solution|\n",
    "|:----------|:----|:----|:--------|\n",
    "|No Autocorrelation| |t-test<br>$H_0:\\rho_{\\varepsilon_t,\\varepsilon_{t-k}}=0$<br>$t=\\frac{r_{\\epsilon_t,\\epsilon_{t-k}}-0}{1/\\sqrt{T}}$,  df=T-2| add lagged values|\n",
    "|Covariance stationary: (mean reverting)<br>1.constant and finite expected value<br>2. constant and finite variance<br>3.constant and finite cov between any lag|1.timeseries increase if  $x_t>\\frac{b_0}{1-b_1}$ <br> 2.random walk with/without drift<br>3.Unstable regressioin coefficients for longer/shorter, earlier/later periods |DF test<br>$X_t-X_{t-1}=b_0+(b_1-1)X_{t-1}+\\varepsilon_t=b_0+gX_{t-1}+\\varepsilon_t$<br>$H_0:g=0, H_A: g<0$| First differencing|\n",
    "|No Heteroskedasticity|Std error of regression param is incorrect|ARCH<br>$\\varepsilon_t^2=a_0+a_1\\varepsilon_{t-1}^2+\\xi_t$<br>t-test: $H_0: a_1=0$|GLS|"
   ]
  },
  {
   "cell_type": "markdown",
   "metadata": {
    "collapsed": true
   },
   "source": [
    "#### 3.2.3 Limitation ####\n",
    "\n",
    "- Two time series\n",
    "\n",
    "$y_t=b_0+b_1x_t+\\varepsilon_t$\n",
    "\n",
    "If both are not cov stationary, run DF-EG test to check co-integration.\n",
    "\n",
    "$H_0$: no integration\n",
    "\n",
    "If reject,  cointegrated"
   ]
  },
  {
   "cell_type": "markdown",
   "metadata": {},
   "source": [
    "#### 3.2.4 Application ####\n",
    "\n",
    "Within applicable models, choose the one with the smallest RMSE.\n",
    "\n",
    "$RMSE=\\sqrt{MSE}$"
   ]
  },
  {
   "cell_type": "markdown",
   "metadata": {},
   "source": [
    "### Simulation\n",
    "\n",
    "Estimate probability distribution of variable in Simulation:\n",
    "\n",
    "For most variables, the historical and cross-sectional data will be insufficient or unreliable. Directly estimating the statistical parameters for each variable will be most efficient."
   ]
  },
  {
   "cell_type": "code",
   "execution_count": null,
   "metadata": {
    "collapsed": true
   },
   "outputs": [],
   "source": []
  }
 ],
 "metadata": {
  "kernelspec": {
   "display_name": "Python 2",
   "language": "python",
   "name": "python2"
  },
  "language_info": {
   "codemirror_mode": {
    "name": "ipython",
    "version": 2
   },
   "file_extension": ".py",
   "mimetype": "text/x-python",
   "name": "python",
   "nbconvert_exporter": "python",
   "pygments_lexer": "ipython2",
   "version": "2.7.13"
  }
 },
 "nbformat": 4,
 "nbformat_minor": 2
}
