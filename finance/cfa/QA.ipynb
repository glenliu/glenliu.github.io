{
 "cells": [
  {
   "cell_type": "markdown",
   "metadata": {},
   "source": [
    "# QA #"
   ]
  },
  {
   "cell_type": "markdown",
   "metadata": {},
   "source": [
    "### Single Regression ###"
   ]
  },
  {
   "cell_type": "markdown",
   "metadata": {},
   "source": [
    "  1. Objective\n",
    "  2. Assumption\n",
    "  3. Estimation\n",
    "  Calc $b_0, b_1$\n",
    "   - Calculator\n",
    "   - OLS\n",
    "   \n",
    "      * $b_1= \\frac{cov(x,y)} {\\sigma_x^2}$\n",
    "    \n",
    "      * $b_0=\\bar{Y}-b_1\\bar{X}$\n",
    "     \n",
    "\n",
    "  4.Test\n",
    "  \n",
    "  4.1 Violation test\n",
    "  \n",
    "  4.2 Significance test\n",
    "  \n",
    "  - Critical method\n",
    "  \n",
    "  $S_{\\hat{b_1}}\\uparrow -> SEE \\uparrow$\n",
    "  \n",
    "  \n",
    "  $t= \\frac {\\hat{b_1}-0} {S_{\\hat{b_1}}}, df=n-k-1 $\n",
    "  \n",
    "  - Confidence interval\n",
    "  \n",
    "  $\\hat{b_1}\\pm t_cS_{\\hat{b_1}}$\n",
    "  \n",
    "  - p-value < $\\alpha$\n",
    "  \n",
    "  reject $H-0$\n",
    "  \n",
    "  \n",
    "  4.3 ANOVA test\n",
    "  \n",
    "  - $R^2$\n",
    "  - SEE\n",
    "  \n",
    "$H_0: \\rho = 0$\n",
    "\n",
    "t-test stat = $ \\frac {r \\sqrt {n-2}}{\\sqrt{1-r^2}} $; df=n-2\n",
    "  3. Limitation:\n",
    " - Outliers\n",
    " - Spurious correlation\n",
    " - Nonlinear relationship"
   ]
  },
  {
   "cell_type": "markdown",
   "metadata": {},
   "source": [
    "### Multiple Regression ###"
   ]
  },
  {
   "cell_type": "markdown",
   "metadata": {},
   "source": [
    "Formula:\n",
    "\n",
    "$Y=a_0+b_1 x_1+b_2 x_2+b_3 x_3+\\epsilon$"
   ]
  },
  {
   "cell_type": "markdown",
   "metadata": {},
   "source": [
    "|Assumption|Affect if present|Test|Solution|\n",
    "|:----------|:----|:----|:--------|\n",
    "|Heteroskedasticity|Not affect consistency of estimators<br>Coefficient are not affected<br> Std error are unreliable: too small -> t big -> Type 1 error|B-P test <br> $H_0$: No heteroskedasticity<br>$BP=nR_{residual}^2$, df=k<br>Regress between squared residuals and X| White, GLS, Hansen|\n",
    "|Serial Autocorrelation|Often found in time series<br>Not affect the consistency<br>Positive serial autocorr is common:<br>-- coefficent std error is too small -> t is big -> Type 1 error, F-test unreliable|D-W test<br>$H_0$:No serial autocorr, DW$\\approx$2(1-r)<br><br>0~d1: Reject, positive serial autocorr<br>d1~du: inconclusive;<br>du~2~(4-du):Not reject<br>4-du~4-d1:inconclusive;<br>4-d1~4:Reject, negative serial autocorr| Hansen,<br> use time series model|"
   ]
  },
  {
   "cell_type": "markdown",
   "metadata": {},
   "source": [
    "Limitation\n",
    "\n",
    "Dummy variable\n",
    "\n",
    "Forecast\n",
    "\n",
    " - point estimate\n",
    " - interval:  $\\hat{Y}\\pm t_c S_{\\hat{Y}}$\n",
    " - standard error of forecast"
   ]
  },
  {
   "cell_type": "markdown",
   "metadata": {},
   "source": [
    "## Time Series ##"
   ]
  },
  {
   "cell_type": "markdown",
   "metadata": {},
   "source": [
    "### Trend model ###"
   ]
  },
  {
   "cell_type": "markdown",
   "metadata": {},
   "source": [
    "Formula:\n",
    "\n",
    "$Y=a_0+b_1t+\\epsilon$"
   ]
  },
  {
   "cell_type": "markdown",
   "metadata": {},
   "source": [
    "### Time series model ###"
   ]
  },
  {
   "cell_type": "markdown",
   "metadata": {},
   "source": [
    "|Assumption|Test|Solution|\n",
    "|----------|----|--------|\n",
    "|Serial Autocorrelation|D-W test| No: Trend model; <br> Yes: AR model|\n",
    "|Covariance stationary|| Yes: AR(1); <br>No: First differencing|\n",
    "|Error Autogression|| Yes: Add lags; <br> |\n",
    "|Heteroskedasticity|ARCH|Yes:GOLS|"
   ]
  },
  {
   "cell_type": "code",
   "execution_count": null,
   "metadata": {
    "collapsed": true
   },
   "outputs": [],
   "source": []
  }
 ],
 "metadata": {
  "kernelspec": {
   "display_name": "Python 2",
   "language": "python",
   "name": "python2"
  },
  "language_info": {
   "codemirror_mode": {
    "name": "ipython",
    "version": 2
   },
   "file_extension": ".py",
   "mimetype": "text/x-python",
   "name": "python",
   "nbconvert_exporter": "python",
   "pygments_lexer": "ipython2",
   "version": "2.7.13"
  }
 },
 "nbformat": 4,
 "nbformat_minor": 2
}
