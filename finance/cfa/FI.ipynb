{
 "cells": [
  {
   "cell_type": "markdown",
   "metadata": {},
   "source": [
    "# FI #"
   ]
  },
  {
   "cell_type": "markdown",
   "metadata": {},
   "source": [
    "## Reading 35 The Term Structure and Interest Rate Dynamics ##\n",
    "by Thomas S.Y. Ho, PhD, Sang Bin Lee, PhD, and Stephen E.Wilcox, PhD, CFA"
   ]
  },
  {
   "cell_type": "markdown",
   "metadata": {},
   "source": [
    "### Conversion: par, spot, forward\n",
    "\n",
    "### Spreads (risk)\n",
    "\n",
    "### Theory\n",
    "Classical/model\n",
    "\n",
    "### Riding the yield\n",
    "\n",
    "### curve\n",
    "$\\Delta P/P=-D_L*\\Delta X_L-D_S*\\Delta X_S-D_C*\\Delta X_C$"
   ]
  },
  {
   "cell_type": "markdown",
   "metadata": {},
   "source": [
    "## Reading 36 The Arbitrage-Free Valuation Framework ##\n",
    "by Steven V. Mann, PhD"
   ]
  },
  {
   "cell_type": "markdown",
   "metadata": {},
   "source": [
    "### Pricing Binomial\n",
    "\n",
    "Straight\n",
    "Putable\n",
    "Callable\n",
    "Floater\n",
    "\n",
    "### Monte Carlo\n",
    "MBS\n",
    "\n",
    "### Binomial Tree\n",
    "Putable/callable\n",
    "\n",
    "### Duration, convexity, OAS\n",
    "\n",
    "OAS:\n",
    "- Z spread\n",
    "- binomial tree, try and error\n",
    "\n"
   ]
  },
  {
   "cell_type": "markdown",
   "metadata": {},
   "source": [
    "## Reading 37 Valuation and Analysis: Bonds with Embedded Options ##\n",
    "by Leslie Abreo, MFE, Ioannis Georgiou, CFA, and Andrew Kalotay, PhD"
   ]
  },
  {
   "cell_type": "markdown",
   "metadata": {},
   "source": [
    "The option-adjusted spread (OAS) is the constant spread that is added to all one-period forward rates on the interest rate tree and results in the present value of the bond’s cash flows, or arbitrage-free value, equaling the bond’s market price.\n",
    "\n",
    "For two bonds that have otherwise similar characteristics, the bond with the higher OAS is underpriced, or, alternatively, the bond with the lower OAS is overpriced. "
   ]
  },
  {
   "cell_type": "markdown",
   "metadata": {},
   "source": [
    "### interest rate volatility declines ###\n",
    "As interest rate volatility declines, the embedded call option becomes cheaper; thus, the higher the arbitrage-free value (or model value) of the callable bond.\n",
    "\n",
    "Callable bond value = Value of straight bond – Value of call option\n",
    "\n",
    "A higher value for the callable bond means that a higher spread needs to be added to one-period forward rates to make the arbitrage-free bond value equal to the market price (i.e., the OAS is higher). For putable bonds as interest rate volatility declines, the value of the put option declines as does the arbitrage-free value of the putable bond.\n",
    "\n",
    "Putable bond value = Value of straight bond + Value of put option\n",
    "\n",
    "This implies that a lower spread needs to be added to one-period forward rates to make the arbitrage free bond value equal to the market price. Thus, in this instance, the OAS is lower. "
   ]
  },
  {
   "cell_type": "markdown",
   "metadata": {},
   "source": [
    " ### Effective duration ###\n",
    " \n",
    " $ Effective duration = \\frac{P_d-P_u}{2\\Delta yP_0}$"
   ]
  },
  {
   "cell_type": "markdown",
   "metadata": {},
   "source": [
    "For callable bonds, when interest rates ***rise*** and are high compared to the bond’s coupon rate, the call option is out of the money and the price of the callable bond and an otherwise identical straight bond are ***almost the same***. Thus, the effect of an interest rate change on the price of a callable bond and the straight bond is similar—that is, the effective duration of the callable and straight bonds is similar. \n",
    "\n",
    "For putable bonds, when interest rates rise and are high compared to the bond’s coupon rate, the put option is ***in the money*** and the price of the putable bond will not fall as much as the straight bond because the investor can put the bond. Thus, the effective duration of the putable bond is ***lower than*** the effective duration of the straight bond. "
   ]
  },
  {
   "cell_type": "markdown",
   "metadata": {},
   "source": [
    "### Key Rate Duration ###"
   ]
  },
  {
   "cell_type": "markdown",
   "metadata": {},
   "source": [
    "A bond’s sensitivity to changes in the shape of the yield curve, steepening or flattening, is captured by key rate duration. One-sided duration (up or down) is better than effective or two-sided duration at capturing the interest rate sensitivity of a callable or putable bond but only for a parallel shift in the yield curve, not for changes in the shape of the yield curve."
   ]
  },
  {
   "cell_type": "markdown",
   "metadata": {},
   "source": [
    "## Reading 38 Credit Analysis Models ##\n",
    "by Robert A. Jarrow, PhD, and Donald R. van Deventer, PhD"
   ]
  },
  {
   "cell_type": "markdown",
   "metadata": {},
   "source": [
    "### PVEL\n",
    "\n",
    "PVEL=PV(Rf)-PV(Risky)=CFrf/Rf-CFr/R\n",
    "\n",
    "Sometimes PVEL>EL\n",
    "- Time value adjustment: PV(EL)<EL\n",
    "- Risk neutral probability: PV(EL)<EL"
   ]
  },
  {
   "cell_type": "markdown",
   "metadata": {},
   "source": [
    "The bond of Ithica Distribution exhibits the most credit risk because it has the highest present value of the expected loss. The present value of the expected loss is the most important of the credit risk measurements because it represents the exact dollar difference one should pay or receive for a bond relative to an otherwise identical and riskless government bond. The calculation of the present value of the expected loss in the reduced-form model includes the probability of default, the loss given default, the time value of money, and the risk premium. Because it includes these factors, it is the preferred measure. Though not required to answer this question, the calculation of the present value of the expected loss is below:\n",
    "\n",
    "Where:\n",
    "\n",
    "K = Note value\n",
    "\n",
    "λ = Default intensity\n",
    "\n",
    "γ = Loss given default\n",
    "\n",
    "r = Risk-free interest rate\n",
    "\n",
    "Probability of default = 1 – e–λ\n",
    "\n",
    "Expected loss = $K(1 – e^{–λγ(T–t)})$\n",
    "\n",
    "Present value of expected loss= $K \\frac {1−e^{−λγ(T−t)}}{1+r^{T−t}}=1000 \\frac {(1−e^{−(0.0325)(0.75)(1)}}{1+0.02^1} $ =$23.60"
   ]
  },
  {
   "cell_type": "markdown",
   "metadata": {},
   "source": [
    "### Credit Rating & Score ###\n",
    "\n",
    "Credit ratings tend to be stable over time and across the business cycle. This attribute is regarded as a strength of credit ratings to the extent this contributes to lower price volatility in the debt markets. However, stable credit ratings are also regarded as a weakness compared to default probability, a credit risk measure that does reflect changes in the business cycle.\n",
    "\n",
    "Credit Scoring does not explicitly depend on current economic conditions.\n",
    "\n",
    "Neither Credit Ratings nor Credit Scoring provide an estimate of Default Probability."
   ]
  },
  {
   "cell_type": "markdown",
   "metadata": {},
   "source": [
    "### Structural model ###"
   ]
  },
  {
   "cell_type": "markdown",
   "metadata": {},
   "source": [
    "From the equityholders’ perspective, Ithica’s debt is the equivalent to the strike price of a call option for Ithica’s assets, with the strike price equaling the debt amount. Equityholders have limited liability because their obligation to the debtholders extends only to the company’s assets (and not to their personal assets). Accordingly, Ithica’s equityholders will decide to honor the company’s debt obligation only when the value of the company’s assets exceeds the value of its debt. Ithica’s equity is economically equivalent to owning a call option on the company’s assets, with the strike price being equal to the debt amount.\n",
    "\n",
    "From the lenders’ perspective, Ithica Distribution’s debt is economically equivalent to a combination of being long a risk-free bond and short a put option on the company’s assets, with the risk-free note amount and the strike price both being equal to the debt amount."
   ]
  },
  {
   "cell_type": "markdown",
   "metadata": {},
   "source": [
    "### Reduce form ###"
   ]
  },
  {
   "cell_type": "markdown",
   "metadata": {},
   "source": [
    "|  | Strudtural model | Reduced form model | Credit Rating model|\n",
    "|:--|:----------------|:-------------------|:-------------------|\n",
    "|Assumption|B/S|No B/S||\n",
    "|Content|Equity=call on asset=AN(d1)-Xe(-rt)N(d2)<br>Debt_risky=A-E=AN(-d1)+Xe(-rt)N(d2)<br>Debt_rf=Xe(-rt)<br>PVEL=Debt_rf-Debt_risky|Debt=PV(Risky)+PV(RF)<br>Bond_risky=CFrisky/[(1+f0,1)(1+f1,2)(1+f2,3)(1+f3,4)]||\n",
    "|Adv|                 | Its credit risk measures reflect the changing business cycle. <br>Its inputs are observable, so historical estimation procedures can be used. <br> It does not require a specification of the company’s balance sheet structure.||\n",
    "|Disadv|reliance on asset values that are difficult to measure <br> no explicit consideration of the business cycle.||rating agencies desire to keep ratings relatively stable over time such that ratings can be relatively insensitive to changes in the business cycle.|"
   ]
  },
  {
   "cell_type": "markdown",
   "metadata": {},
   "source": [
    "### ABS\n",
    "ABS no default"
   ]
  },
  {
   "cell_type": "markdown",
   "metadata": {},
   "source": [
    "## Reading 39 Credit Default Swaps ##\n",
    "by Brian Rose and Don M. Chance, PhD, CFA"
   ]
  },
  {
   "cell_type": "markdown",
   "metadata": {
    "collapsed": true
   },
   "source": [
    "### Settlement\n",
    "- Physical settlement: get par from insurance.\n",
    "- Cash settlement: get loss from  insurance + sell bond\n"
   ]
  },
  {
   "cell_type": "markdown",
   "metadata": {},
   "source": [
    "### CDS pricing\n",
    "\n",
    "CDS price=100-upfront premium\n",
    "\n",
    "Upfront payment=PV(protection leg)-PV(premium leg)\n",
    "\n",
    "Upfront premium~=(CDS spread-CDS coupon)* duration"
   ]
  },
  {
   "cell_type": "code",
   "execution_count": null,
   "metadata": {
    "collapsed": true
   },
   "outputs": [],
   "source": []
  }
 ],
 "metadata": {
  "kernelspec": {
   "display_name": "Python 2",
   "language": "python",
   "name": "python2"
  },
  "language_info": {
   "codemirror_mode": {
    "name": "ipython",
    "version": 2
   },
   "file_extension": ".py",
   "mimetype": "text/x-python",
   "name": "python",
   "nbconvert_exporter": "python",
   "pygments_lexer": "ipython2",
   "version": "2.7.13"
  }
 },
 "nbformat": 4,
 "nbformat_minor": 2
}
