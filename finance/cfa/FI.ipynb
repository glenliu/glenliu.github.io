{
 "cells": [
  {
   "cell_type": "markdown",
   "metadata": {},
   "source": [
    "# FI #"
   ]
  },
  {
   "cell_type": "markdown",
   "metadata": {},
   "source": [
    "## Reading 35 The Term Structure and Interest Rate Dynamics ##\n",
    "by Thomas S.Y. Ho, PhD, Sang Bin Lee, PhD, and Stephen E.Wilcox, PhD, CFA"
   ]
  },
  {
   "cell_type": "markdown",
   "metadata": {},
   "source": [
    "### Conversion: par, spot, forward\n",
    "\n",
    "### Spreads (risk)\n",
    "\n",
    "|Spread           |Definition      |Risk            |\n",
    "| :---------------|:---------------|:---------------|\n",
    "|Swap             |swap spread = (swap rate) – (Treasury bond yield)<br>Market participants prefer the swap rate curve as a benchmark interest rate curve ather than a government bond yield curve for the following reasons:<br>1. Swap rates reflect the credit risk of commercial banks rather than that of governments <br> 2. The swap market is not regulated by any government.<br> 3. The swap curve typically has yield quotes at many maturities. | liquidity and credit risk. |\n",
    "|Z-spread         |added to each spot rate on the yield curve akes the present value of a bond’s cash flows equal to the bond’s market price  <br>Z-spread is not appropriate to use to value bonds with embedded options; without any interest rate volatility options are meaningless.               |                |\n",
    "|TED spread                 |TED spread = (three-month LIBOR rate) – (three-month T-bill rate)                |   overall level of credit risk in the conomy              |\n",
    "|LIBOR-OIS spread                 | LIBOR-OIS               |useful measure of credit risk and an indication f the overall wellbeing of the banking system.                |\n",
    "|I-spread| the yield on the risky bond exceeds the swap rate for the same maturity. In a case where the swap rate for a specific maturity is not available, the missing swap rate can be estimated from the swap rate curve using linear interpolation |liquidity and credit risk|\n",
    "\n",
    "\n",
    "\n",
    "### Riding the yield\n",
    "\n",
    "### curve\n",
    "$\\Delta P/P=-D_L*\\Delta X_L-D_S*\\Delta X_S-D_C*\\Delta X_C$"
   ]
  },
  {
   "cell_type": "code",
   "execution_count": 2,
   "metadata": {},
   "outputs": [
    {
     "name": "stdout",
     "output_type": "stream",
     "text": [
      "|                 |                |                |\n",
      "| :---------------|:---------------|:---------------|\n",
      "|                 |                |                |\n",
      "|                 |                |                |\n",
      "|                 |                |                |\n",
      "|                 |                |                |\n",
      "|                 |                |                |\n"
     ]
    }
   ],
   "source": [
    "def printtable(rows, cols):\n",
    "    print '|',\"                |\"*cols\n",
    "    print '|',\":---------------|\"*cols\n",
    "    for i in range(rows):\n",
    "        print \"|\" ,\"                |\"*cols\n",
    "        \n",
    "printtable(5,3)    "
   ]
  },
  {
   "cell_type": "markdown",
   "metadata": {},
   "source": [
    "|Name             |Definition      |\n",
    "| :---------------|:---------------|\n",
    "|Pure expectation |Forward rates are an unbiased predictor of future spot rates. Also known as the pure expectations theory<br> Assume risk neutral |\n",
    "|Local expectation|Bond maturity does not influence returns for short holding periods. <br>Risk neutral only at short term => Over short period, every bond should earn risk free rate. (doesn't hold: riding the yield, liquidity premiums and hedging concerns) |\n",
    "|Liquidity Pref   |Investors demand a liquidity premium that is positively related to a bond’s maturity |\n",
    "|Segemented mkt   |The shape of the yield curve is the result of the interactions of supply and demand for funds in different market (i.e., maturity) segments.  |\n",
    "|Pref habitat     |Similar to the segmented markets theory, but recognizes that market participants will deviate from their preferred maturity habitat if compensated adequately.|"
   ]
  },
  {
   "cell_type": "markdown",
   "metadata": {},
   "source": [
    "## Reading 36 The Arbitrage-Free Valuation Framework ##\n",
    "by Steven V. Mann, PhD"
   ]
  },
  {
   "cell_type": "markdown",
   "metadata": {},
   "source": [
    "### Pricing Binomial\n",
    "\n",
    "Straight\n",
    "Putable\n",
    "Callable\n",
    "Floater\n",
    "\n",
    "### Monte Carlo\n",
    "MBS\n",
    "\n",
    "### Binomial Tree\n",
    "Putable/callable\n",
    "\n",
    "### Duration, convexity, OAS\n",
    "\n",
    "OAS:\n",
    "- Z spread\n",
    "- binomial tree, try and error\n",
    "\n"
   ]
  },
  {
   "cell_type": "markdown",
   "metadata": {},
   "source": [
    "## Reading 37 Valuation and Analysis: Bonds with Embedded Options ##\n",
    "by Leslie Abreo, MFE, Ioannis Georgiou, CFA, and Andrew Kalotay, PhD"
   ]
  },
  {
   "cell_type": "markdown",
   "metadata": {},
   "source": [
    "The option-adjusted spread (OAS) is the constant spread that is added to all one-period forward rates on the interest rate tree and results in the present value of the bond’s cash flows, or arbitrage-free value, equaling the bond’s market price.\n",
    "\n",
    "For two bonds that have otherwise similar characteristics, the bond with the higher OAS is underpriced, or, alternatively, the bond with the lower OAS is overpriced. "
   ]
  },
  {
   "cell_type": "markdown",
   "metadata": {},
   "source": [
    "### interest rate volatility declines ###\n",
    "As interest rate volatility declines, the embedded call option becomes cheaper; thus, the higher the arbitrage-free value (or model value) of the callable bond.\n",
    "\n",
    "Callable bond value = Value of straight bond – Value of call option\n",
    "\n",
    "A higher value for the callable bond means that a higher spread needs to be added to one-period forward rates to make the arbitrage-free bond value equal to the market price (i.e., the OAS is higher). For putable bonds as interest rate volatility declines, the value of the put option declines as does the arbitrage-free value of the putable bond.\n",
    "\n",
    "Putable bond value = Value of straight bond + Value of put option\n",
    "\n",
    "This implies that a lower spread needs to be added to one-period forward rates to make the arbitrage free bond value equal to the market price. Thus, in this instance, the OAS is lower. "
   ]
  },
  {
   "cell_type": "markdown",
   "metadata": {},
   "source": [
    "Specifically, if the OAS of the bond being analyzed exceeds the OAS of the benchmark bonds (which will have similar characteristics and credit quality), then the bond is likely underpriced. \n",
    "\n",
    "If interest rate volatility declines then the relative cheapness of Bond A will increase. As interest rate volatility declines, the OAS for callable bonds will increase—that is, the relative cheapness increases."
   ]
  },
  {
   "cell_type": "markdown",
   "metadata": {},
   "source": [
    " ### Effective duration ###\n",
    " \n",
    " $ Effective duration = \\frac{P_d-P_u}{2\\Delta yP_0}$"
   ]
  },
  {
   "cell_type": "markdown",
   "metadata": {},
   "source": [
    "For callable bonds, when interest rates ***rise*** and are high compared to the bond’s coupon rate, the call option is out of the money and the price of the callable bond and an otherwise identical straight bond are ***almost the same***. Thus, the effect of an interest rate change on the price of a callable bond and the straight bond is similar—that is, the effective duration of the callable and straight bonds is similar. \n",
    "\n",
    "For putable bonds, when interest rates rise and are high compared to the bond’s coupon rate, the put option is ***in the money*** and the price of the putable bond will not fall as much as the straight bond because the investor can put the bond. Thus, the effective duration of the putable bond is ***lower than*** the effective duration of the straight bond. "
   ]
  },
  {
   "cell_type": "markdown",
   "metadata": {},
   "source": [
    "### Key Rate Duration ###"
   ]
  },
  {
   "cell_type": "markdown",
   "metadata": {},
   "source": [
    "A bond’s sensitivity to changes in the shape of the yield curve, steepening or flattening, is captured by key rate duration. One-sided duration (up or down) is better than effective or two-sided duration at capturing the interest rate sensitivity of a callable or putable bond but only for a parallel shift in the yield curve, not for changes in the shape of the yield curve."
   ]
  },
  {
   "cell_type": "markdown",
   "metadata": {},
   "source": [
    "### Yield curve & bond with embeded options\n",
    "\n",
    "\n",
    "All else being equal, as the yield curve flattens, \n",
    "\n",
    "- Callable bond:\n",
    "  - the value of the call option embedded in Bond A increases. \n",
    "  - Thus, although the value of Bond A increases, the increase is partially offset by the increase in the value of the call option. \n",
    "\n",
    "Therefore, Bond A does not increase as much as the straight bond. \n",
    "\n",
    "- Putable bond:\n",
    "\n",
    "  - the value of the put option embedded in Bond B declines because opportunities for the investor to put the bond decline. \n",
    "  \n",
    "  - Bond B will increase as the yield curve declines but not as much as the straight bond.\n",
    "  \n",
    "Bond B will increase as the yield curve declines but not as much as the straight bond."
   ]
  },
  {
   "cell_type": "markdown",
   "metadata": {},
   "source": [
    "## Reading 38 Credit Analysis Models ##\n",
    "by Robert A. Jarrow, PhD, and Donald R. van Deventer, PhD"
   ]
  },
  {
   "cell_type": "markdown",
   "metadata": {},
   "source": [
    "### PVEL\n",
    "\n",
    "PVEL=PV(Rf)-PV(Risky)=CFrf/Rf-CFr/R\n",
    "\n",
    "Sometimes PVEL>EL\n",
    "- Time value adjustment: PV(EL)<EL\n",
    "- Risk neutral probability: PV(EL)<EL"
   ]
  },
  {
   "cell_type": "markdown",
   "metadata": {},
   "source": [
    "The bond of Ithica Distribution exhibits the most credit risk because it has the highest present value of the expected loss. The present value of the expected loss is the most important of the credit risk measurements because it represents the exact dollar difference one should pay or receive for a bond relative to an otherwise identical and riskless government bond. The calculation of the present value of the expected loss in the reduced-form model includes the probability of default, the loss given default, the time value of money, and the risk premium. Because it includes these factors, it is the preferred measure. Though not required to answer this question, the calculation of the present value of the expected loss is below:\n",
    "\n",
    "Where:\n",
    "\n",
    "K = Note value\n",
    "\n",
    "λ = Default intensity\n",
    "\n",
    "γ = Loss given default\n",
    "\n",
    "r = Risk-free interest rate\n",
    "\n",
    "Probability of default = 1 – e–λ\n",
    "\n",
    "Expected loss = $K(1 – e^{–λγ(T–t)})$\n",
    "\n",
    "Present value of expected loss= $K \\frac {1−e^{−λγ(T−t)}}{1+r^{T−t}}=1000 \\frac {(1−e^{−(0.0325)(0.75)(1)}}{1+0.02^1} $ =$23.60"
   ]
  },
  {
   "cell_type": "markdown",
   "metadata": {},
   "source": [
    "### Credit Rating & Score ###\n",
    "\n",
    "Credit ratings tend to be stable over time and across the business cycle. This attribute is regarded as a strength of credit ratings to the extent this contributes to lower price volatility in the debt markets. However, stable credit ratings are also regarded as a weakness compared to default probability, a credit risk measure that does reflect changes in the business cycle.\n",
    "\n",
    "Credit Scoring does not explicitly depend on current economic conditions.\n",
    "\n",
    "Neither Credit Ratings nor Credit Scoring provide an estimate of Default Probability."
   ]
  },
  {
   "cell_type": "markdown",
   "metadata": {},
   "source": [
    "### Structural model ###"
   ]
  },
  {
   "cell_type": "markdown",
   "metadata": {},
   "source": [
    "From the equityholders’ perspective, Ithica’s debt is the equivalent to the strike price of a call option for Ithica’s assets, with the strike price equaling the debt amount. Equityholders have limited liability because their obligation to the debtholders extends only to the company’s assets (and not to their personal assets). Accordingly, Ithica’s equityholders will decide to honor the company’s debt obligation only when the value of the company’s assets exceeds the value of its debt. Ithica’s equity is economically equivalent to owning a call option on the company’s assets, with the strike price being equal to the debt amount.\n",
    "\n",
    "From the lenders’ perspective, Ithica Distribution’s debt is economically equivalent to a combination of being long a risk-free bond and short a put option on the company’s assets, with the risk-free note amount and the strike price both being equal to the debt amount."
   ]
  },
  {
   "cell_type": "markdown",
   "metadata": {},
   "source": [
    "Owning all of a corporation’s debt with face value F and maturity T is equivalent to\n",
    "\n",
    "- owning a riskless bond with face value F and maturity T and\n",
    "- selling a European put option on the corporation’s assets with strike price F and maturity T."
   ]
  },
  {
   "cell_type": "markdown",
   "metadata": {},
   "source": [
    "### Reduce form ###"
   ]
  },
  {
   "cell_type": "markdown",
   "metadata": {},
   "source": [
    "|  | Strudtural model | Reduced form model | Credit Rating model|\n",
    "|:--|:----------------|:-------------------|:-------------------|\n",
    "|Assumption|B/S<br>- uses market prices, not accounting statement data.<br>- asset return volatility is constant over time.<br>- Interest rates are constant over time, (which is not true in practice and a particular problem for a model of debt value because debt is subject to substantial interest rate risk.)|No B/S<br>- the borrower have a zero coupon bond that trades in arbitrage-free and frictionless markets.<br>- the riskless rate of interest is stochastic.<br>- the recovery rate is dependent on the state of the economy.||\n",
    "|Content|Equity=call on asset=AN(d1)-Xe(-rt)N(d2)<br>Debt_risky=A-E=AN(-d1)+Xe(-rt)N(d2)<br>Debt_rf=Xe(-rt)<br>PVEL=Debt_rf-Debt_risky|Debt=PV(Risky)+PV(RF)<br>Bond_risky=CFrisky/[(1+f0,1)(1+f1,2)(1+f2,3)(1+f3,4)]||\n",
    "|Adv|                 | Its credit risk measures reflect the changing business cycle. <br>Its inputs are observable, so historical estimation procedures can be used. <br> It does not require a specification of the company’s balance sheet structure.||\n",
    "|Disadv|reliance on asset values that are difficult to measure <br> no explicit consideration of the business cycle.||rating agencies desire to keep ratings relatively stable over time such that ratings can be relatively insensitive to changes in the business cycle.|"
   ]
  },
  {
   "cell_type": "markdown",
   "metadata": {},
   "source": [
    "### ABS\n",
    "ABS no default"
   ]
  },
  {
   "cell_type": "markdown",
   "metadata": {},
   "source": [
    "## Reading 39 Credit Default Swaps ##\n",
    "by Brian Rose and Don M. Chance, PhD, CFA"
   ]
  },
  {
   "cell_type": "markdown",
   "metadata": {
    "collapsed": true
   },
   "source": [
    "### Settlement\n",
    "- Physical settlement: get par from insurance.\n",
    "- Cash settlement: get loss from  insurance + sell bond\n"
   ]
  },
  {
   "cell_type": "markdown",
   "metadata": {},
   "source": [
    "### CDS pricing\n",
    "\n",
    "CDS price=100-upfront premium\n",
    "\n",
    "Upfront payment=PV(protection leg)-PV(premium leg)\n",
    "\n",
    "Upfront premium~=(CDS spread-CDS coupon)* duration"
   ]
  },
  {
   "cell_type": "code",
   "execution_count": null,
   "metadata": {
    "collapsed": true
   },
   "outputs": [],
   "source": []
  }
 ],
 "metadata": {
  "kernelspec": {
   "display_name": "Python 2",
   "language": "python",
   "name": "python2"
  },
  "language_info": {
   "codemirror_mode": {
    "name": "ipython",
    "version": 2
   },
   "file_extension": ".py",
   "mimetype": "text/x-python",
   "name": "python",
   "nbconvert_exporter": "python",
   "pygments_lexer": "ipython2",
   "version": "2.7.13"
  }
 },
 "nbformat": 4,
 "nbformat_minor": 2
}
