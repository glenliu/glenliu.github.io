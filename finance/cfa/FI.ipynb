{
 "cells": [
  {
   "cell_type": "markdown",
   "metadata": {},
   "source": [
    "# FI #"
   ]
  },
  {
   "cell_type": "markdown",
   "metadata": {},
   "source": [
    "## Reading 35 The Term Structure and Interest Rate Dynamics ##\n",
    "by Thomas S.Y. Ho, PhD, Sang Bin Lee, PhD, and Stephen E.Wilcox, PhD, CFA"
   ]
  },
  {
   "cell_type": "markdown",
   "metadata": {},
   "source": [
    "## Reading 36 The Arbitrage-Free Valuation Framework ##\n",
    "by Steven V. Mann, PhD"
   ]
  },
  {
   "cell_type": "markdown",
   "metadata": {},
   "source": [
    "## Reading 37 Valuation and Analysis: Bonds with Embedded Options ##\n",
    "by Leslie Abreo, MFE, Ioannis Georgiou, CFA, and Andrew Kalotay, PhD"
   ]
  },
  {
   "cell_type": "markdown",
   "metadata": {},
   "source": [
    "## Reading 38 Credit Analysis Models ##\n",
    "by Robert A. Jarrow, PhD, and Donald R. van Deventer, PhD"
   ]
  },
  {
   "cell_type": "markdown",
   "metadata": {},
   "source": [
    "## Reading 39 Credit Default Swaps ##\n",
    "by Brian Rose and Don M. Chance, PhD, CFA"
   ]
  },
  {
   "cell_type": "code",
   "execution_count": null,
   "metadata": {
    "collapsed": true
   },
   "outputs": [],
   "source": []
  }
 ],
 "metadata": {
  "kernelspec": {
   "display_name": "Python 2",
   "language": "python",
   "name": "python2"
  },
  "language_info": {
   "codemirror_mode": {
    "name": "ipython",
    "version": 2
   },
   "file_extension": ".py",
   "mimetype": "text/x-python",
   "name": "python",
   "nbconvert_exporter": "python",
   "pygments_lexer": "ipython2",
   "version": "2.7.13"
  }
 },
 "nbformat": 4,
 "nbformat_minor": 2
}
