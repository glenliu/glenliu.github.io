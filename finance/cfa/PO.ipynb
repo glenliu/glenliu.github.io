{
 "cells": [
  {
   "cell_type": "markdown",
   "metadata": {},
   "source": [
    "# PO #"
   ]
  },
  {
   "cell_type": "markdown",
   "metadata": {},
   "source": [
    "## Reading 47 The Portfolio Management Process and the Investment Policy Statement ##\n",
    "by John L. Maginn, CFA, Donald L. Tuttle, PhD, CFA, Dennis W. McLeavey, CFA, and Jerald E. Pinto, PhD, CFA"
   ]
  },
  {
   "cell_type": "markdown",
   "metadata": {},
   "source": [
    "## Reading 48 An Introduction to Multifactor Models ##\n",
    "by Jerald E. Pinto, PhD, CFA, and Eugene L. Podkaminer, CFA"
   ]
  },
  {
   "cell_type": "markdown",
   "metadata": {},
   "source": [
    "### APT\n",
    "\n",
    "The assumptions under the APT are as follows:\n",
    "\n",
    "- A factor model describes asset returns.\n",
    "- There are many assets, so investors can form well-diversified portfolios that eliminate asset-specific risk, not factor risk.\n",
    "- No arbitrage opportunities exist among well-diversified portfolios.\n",
    "- The absence of an arbitrage opportunity indicates a condition of financial market equilibrium."
   ]
  },
  {
   "cell_type": "markdown",
   "metadata": {},
   "source": [
    "## Reading 49 Measuring and Managing Market Risk ##\n",
    "by Don M. Chance, PhD, CFA, and Michelle McCarthy Beck"
   ]
  },
  {
   "cell_type": "markdown",
   "metadata": {},
   "source": [
    "## Reading 50 Economics and Investment Markets ##\n",
    "by Andrew Clare, PhD, and Thomas F. Cosimano, PhD"
   ]
  },
  {
   "cell_type": "markdown",
   "metadata": {},
   "source": [
    "|Statement|Correct?|Explain|\n",
    "|:-----|:-----|:-----|\n",
    "|Observation 1: The equity premium should be larger than, and positively correlated with, the corporate bond premium.|Correct|because given inferior consumption hedging properties, equity investors should demand a risk premium relative to fixed-income investors. Equity risk premiums tend to be highly correlated with corporate bond spreads.|\n",
    "|Observation 2: Corporate profitability is a leading economic indicator.|Correct|corporate profitability tends to sharply recover with any uptick in demand during a recession given leaner cost structures at that time and can be an important indicator of the business cycle.|\n",
    "|Observation 3: Equities provide superior consumption-hedging properties to high-quality bonds.|Incorrect|Because of the pro-cyclicality of economies and corporate profits, equities are not a good hedge against bad consumption outcomes, which is one of the reasons equity investors require a risk premium.|\n",
    "\n",
    "\n",
    "\n",
    "\n",
    "\n"
   ]
  },
  {
   "cell_type": "markdown",
   "metadata": {},
   "source": [
    "## Reading 51 Analysis of Active Portfolio Management ##\n",
    "by Roger G. Clarke, PhD, Harindra de Silva, PhD, CFA, and Steven Thorley, PhD, CFA"
   ]
  },
  {
   "cell_type": "markdown",
   "metadata": {},
   "source": [
    "### aggressive vs passive\n",
    "\n",
    "Tracking error is a synonym for tracking risk or active risk. A well-executed passive investment strategy would achieve the lowest amount of tracking error, whereas an aggressive active equity manager would be expected to have the highest tracking error."
   ]
  },
  {
   "cell_type": "markdown",
   "metadata": {},
   "source": [
    "## Reading 52 Algorithmic Trading and High-Frequency Trading ##\n",
    "by John Bates, PhD"
   ]
  },
  {
   "cell_type": "code",
   "execution_count": null,
   "metadata": {
    "collapsed": true
   },
   "outputs": [],
   "source": []
  }
 ],
 "metadata": {
  "kernelspec": {
   "display_name": "Python 2",
   "language": "python",
   "name": "python2"
  },
  "language_info": {
   "codemirror_mode": {
    "name": "ipython",
    "version": 2
   },
   "file_extension": ".py",
   "mimetype": "text/x-python",
   "name": "python",
   "nbconvert_exporter": "python",
   "pygments_lexer": "ipython2",
   "version": "2.7.13"
  }
 },
 "nbformat": 4,
 "nbformat_minor": 2
}
