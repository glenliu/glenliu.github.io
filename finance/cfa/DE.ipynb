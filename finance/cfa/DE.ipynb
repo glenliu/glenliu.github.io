{
 "cells": [
  {
   "cell_type": "markdown",
   "metadata": {},
   "source": [
    "# DE #"
   ]
  },
  {
   "cell_type": "markdown",
   "metadata": {},
   "source": [
    "## Reading 40 Pricing and Valuation of Forward Commitments ##\n",
    "by Robert E. Brooks, PhD, CFA, and Barbara Valbuzzi, CFA"
   ]
  },
  {
   "cell_type": "markdown",
   "metadata": {},
   "source": [
    "### IRS Pricing & Valuation"
   ]
  },
  {
   "cell_type": "markdown",
   "metadata": {},
   "source": [
    "Whitney advises Novatel to enter into a one-year pay-floating Libor receive-fixed interest rate swap with quarterly payments. The notional principal on the swap will be $250,000,000. Whitney’s first task is to determine the appropriate swap rate.\n",
    "\n",
    "CURRENT TERM STRUCTURE OF RATES (%)\n",
    "\n",
    "|Days|Libor|Euribor|Hibor|\n",
    "|---:|---:|---:|---:|\n",
    "|90|1.42|1.86|1.22|\n",
    "|180|1.84|2.11|1.53|\n",
    "|270|2.12|2.24|1.7|\n",
    "|360|3.42|2.34|1.87|"
   ]
  },
  {
   "cell_type": "markdown",
   "metadata": {},
   "source": [
    "Valuation\n",
    "\n",
    "TERM STRUCTURE OF RATES 90 DAYS LATER (%)\n",
    "\n",
    "|Days|Libor|Euribor|Hibor|\n",
    "|---:|---:|---:|---:|\n",
    "|90|2.21|2.94|1.95|\n",
    "|180|2.62|3.03|2.45|\n",
    "|270|3.73|3.08|2.7|\n",
    "\n",
    "The present value factors are provided below:\n",
    "\n",
    "PV(90)\t0.994505\n",
    "PV(180)\t0.987069\n",
    "PV(270)\t0.972786\n",
    "For example, PV(180) is calculated as:\n",
    "\n",
    "11+0.0262×(180/360)=0.987069\n",
    "Other present value factors are calculated in a similar manner. Using the fixed rate initially determined for the swap and the current PV factors, the current value of the fixed bond is:\n",
    "\n",
    "FB\t=\t$C\\sum_{i=1}^{n}PV_{t,ti}(1)+PV_{0,t_n}$\n",
    " \t=\t0.008396(0.994505+0.987069+0.972786)+0.972786\n",
    " \t=\t0.997591\n",
    "    \n",
    "The value of the floating rate bond at reset is 1. The market value of the pay-floating, receive-fixed rate swap is the value of the fixed-rate bond less the value of the floating-rate bond, or \\$250,000,000 × (0.997591 − 1.000) = −\\$602,250.\n",
    "\n",
    "Using an alternative approach, the new fixed swap rate would be\n",
    "\n",
    "$r_{FIX}=\\frac{\t1.0−PV_{0,t_n}(1)}{\\sum_{i=1}{n}PV_{0,t_n}(1)}$\n",
    "\n",
    " \t=\t$\\frac{1.0−0.972786}{0.994505+0.987069+0.972786}$\n",
    "    \n",
    " \t=\t0.009211\n",
    "    \n",
    "And the value of the swap is the difference between the value at the old rate and the value at the new rate, or\n",
    "\n",
    "V\t=\t$(FS_0−FS_t)\\sum_{i=1}^nPV{t,t_i}$\n",
    "\n",
    " \t=\t(0.008396−0.009211)×(0.9945+0.9871+0.9728)\n",
    "    \n",
    " \t=\t−0.002409\n",
    "    \n",
    "The swap value\t = \t\\$250,000,000 × −0.002409 = −\\$602,250"
   ]
  },
  {
   "cell_type": "markdown",
   "metadata": {},
   "source": [
    "## Reading 41 Valuation of Contingent Claims ##\n",
    "by Robert E. Brooks, PhD, CFA, and David Maurice Gentle, MEc, BSc, CFA"
   ]
  },
  {
   "cell_type": "markdown",
   "metadata": {},
   "source": [
    "## Reading 42 Derivatives Strategies ##\n",
    "by Robert A. Strong, PhD, CFA, and Russell A. Rhoads, CFA"
   ]
  },
  {
   "cell_type": "code",
   "execution_count": null,
   "metadata": {
    "collapsed": true
   },
   "outputs": [],
   "source": []
  }
 ],
 "metadata": {
  "kernelspec": {
   "display_name": "Python 2",
   "language": "python",
   "name": "python2"
  },
  "language_info": {
   "codemirror_mode": {
    "name": "ipython",
    "version": 2
   },
   "file_extension": ".py",
   "mimetype": "text/x-python",
   "name": "python",
   "nbconvert_exporter": "python",
   "pygments_lexer": "ipython2",
   "version": "2.7.13"
  }
 },
 "nbformat": 4,
 "nbformat_minor": 2
}
