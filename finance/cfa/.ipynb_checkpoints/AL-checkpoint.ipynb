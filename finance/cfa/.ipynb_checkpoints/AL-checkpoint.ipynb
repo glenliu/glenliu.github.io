{
 "cells": [
  {
   "cell_type": "markdown",
   "metadata": {},
   "source": [
    "## Alternative Investments ##"
   ]
  },
  {
   "cell_type": "markdown",
   "metadata": {},
   "source": [
    "## 43. Private Real Estate Investments"
   ]
  },
  {
   "cell_type": "markdown",
   "metadata": {},
   "source": [
    "### Valuation\n",
    "\n",
    "- Income approach\n",
    "  - Single stage: direct capitalization NOI/cap rate\n",
    "  - Two stage:\n",
    "    - Terminal Value \n",
    "    - T&M\n",
    "    - Layered\n",
    "- Cost approach\n",
    "\n",
    " Replace cost\n",
    " \n",
    "...   - depreciation\n",
    "\n",
    "...   - obseloence\n",
    "\n",
    "...   - curable\n",
    "\n",
    "...   + land"
   ]
  },
  {
   "cell_type": "markdown",
   "metadata": {},
   "source": [
    "- DCF method takes into account cash flows that are relevant to investors \n",
    "\n",
    "- The cost approach works best for newer properties, \n",
    "\n",
    "- Sales comparison approach provides reliable value estimates in an active real estate market in which there are numerous transactions.”"
   ]
  },
  {
   "cell_type": "markdown",
   "metadata": {},
   "source": [
    "Sales Comparison Information to Evaluate Subject Property\n",
    "\n",
    " \tSize (square feet)\tAge (years)\tCondition\tPrice(per square foot)\n",
    "\n",
    "Subject office property\t12,000\t7\tExcellent\t \n",
    "\n",
    "Comparable office property 1\t8,000\t10\tAverage\t\\$1,150\n",
    "\n",
    "Comparable office property 2\t14,000\t4\tAverage\t\\$1,325\n",
    "\n",
    "To adjust for age, the price per square foot (PSF) of the comparable property is adjusted by 3% per year of age difference. The adjustment for the condition of the office property is 14% for properties in average condition.\n",
    "\n",
    "\n",
    "Q. Based on Exhibit 2 and other information provided, the value of the office property using the sales comparison approach is closest to:\n",
    "\n",
    "\\$16,834,500.\n",
    "\n",
    "\\$17,023,500.\n",
    "\n",
    "\\$13,875,000.\n",
    "\n",
    "Solution\n",
    "\n",
    "Using the sales comparison approach, the price PSF of the comparable properties is adjusted relative to the subject property to account for age and condition. For example, Property 1 is 10 years old, and the subject property is 7 years old. Because the subject property is newer by three years, the price PSF of Property 1 is adjusted up by 3\\% per year for three years, or 9\\%. Property 1 is in average condition, but the subject property is in excellent condition. Thus, the value of Property 1 is adjusted up 14\\%, the adjustment factor provided for the condition adjustment. Thus, the price PSF of Property 1 is adjusted up by 23\\% from \\$1,150: Adjusted price PSF for Property 1 = \\$1,150 × 1.23 = \\$1,415.50. A similar calculation is made for Property 2. The average adjusted price PSF of both properties is \\$1,403. The value of the subject property is calculated by applying \\$1,402.88 to the size of the property (12,000 square feet):\n",
    "\n",
    "Value of subject property = \\$1,402.88 × 12,000 = \\$16,834,500\n",
    "\n",
    "The following table shows the calculations:\n",
    "\n",
    "Adjustment\tProperty 1\tProperty 2\n",
    "\n",
    "Price PSF\t\\$1,150\t\\$1,325\n",
    "\n",
    "Age\t9.0%\t−9.0%\n",
    "\n",
    "Condition\t14.0%\t14.0%\n",
    "\n",
    "Total\t23.0%\t5.0%\n",
    "\n",
    "Adjusted price PSF\t\\$1,414.50\t\\$1,391.25\n",
    "\n",
    "Average price PSF\t\\$1,402.88\n",
    "\n",
    "Estimated value\t\\$16,834,500\n",
    "\n"
   ]
  },
  {
   "cell_type": "markdown",
   "metadata": {},
   "source": [
    "## 44. Publicly Traded Real Estate Securities"
   ]
  },
  {
   "cell_type": "markdown",
   "metadata": {
    "collapsed": true
   },
   "source": [
    "### REIT vs REOC\n",
    "- REITs are traded much more than REOCs in the United States; they comprise up to 97% of public real estate equity securities.\n",
    "\n",
    "- REOCs have more freedom with regards to leverage: a wider range of capital structures and degrees of financial leverage may be used by REOCs.\n",
    "\n",
    "-  REOCs have more freedom with regards to the type of real estate in which they may invest.\n",
    "- REITs typically own properties that are income producing. REOCs generate cash inflows primarily from the sale of developed or improved properties, as opposed to recurring lease or rental income."
   ]
  },
  {
   "cell_type": "markdown",
   "metadata": {},
   "source": [
    "### Factors\n",
    "\n",
    "- Storage REITs are very sensitive to population growth. The greater the population, the greater the demand for the storage of goods.\n",
    "\n",
    "- Industrial REITs are very sensitive to retail sales growth.\n",
    "\n",
    "- Office REITs are very sensitive to job creation."
   ]
  },
  {
   "cell_type": "markdown",
   "metadata": {},
   "source": [
    "### RIET valuation\n",
    "\n",
    "- NAVPS\n",
    "- Price multiples: P/FFO, P/AFFO\n",
    "- DCF"
   ]
  },
  {
   "cell_type": "markdown",
   "metadata": {},
   "source": [
    "## 45. Private Equity Valuation"
   ]
  },
  {
   "cell_type": "markdown",
   "metadata": {},
   "source": [
    "### 1. Concepts ###"
   ]
  },
  {
   "cell_type": "markdown",
   "metadata": {},
   "source": [
    "Buyout funds:\n",
    "  - seek out companies with stable cash flows. \n",
    "  - generally invest in companies with low working capital requirements\n",
    "  - acquire portfolio companies via auction, involving multiple potential acquirers."
   ]
  },
  {
   "cell_type": "markdown",
   "metadata": {},
   "source": [
    "VC funds:\n",
    "  - typically invest in companies with significant cash burn rates.\n",
    "  - are primarily equity funded and typically do not use much leverage.\n",
    "  - Assessment of risk is difficult for the underlying companies."
   ]
  },
  {
   "cell_type": "markdown",
   "metadata": {},
   "source": [
    "PE funds:\n",
    "\n",
    "  - increase value by taking on high levels of debt on favorable terms.\n",
    "  - are able to offset their borrowing costs by superior reorganization and re-engineering capabilities. \n",
    "  - increase value by taking on high levels of debt on favorable terms, rather than equity."
   ]
  },
  {
   "cell_type": "markdown",
   "metadata": {},
   "source": [
    "Exit route:\n",
    "\n",
    "  - The initial public offering (IPO) is the preferred method because it produces the highest valuation multiples with most expensive cost.  \n",
    "  - Secondary market sales provides the second highest valuation multiples after IPOs. Another advantage is providing the portfolio company with the expertise of the new buyer or the ability to merge with another portfolio company to realize synergies and add value to the portfolio company.\n",
    "  - management buyout (MBO), high leverage "
   ]
  },
  {
   "cell_type": "markdown",
   "metadata": {},
   "source": [
    "### Features\n",
    "A ratchet enables the management team to increase its equity allocation depending on the company’s actual performance and the return achieved by the private equity firm.\n",
    "\n",
    "Carried interest is the general partners’ share of profit generated by a private equity fund.\n",
    "\n",
    "A distribution waterfall deals with order of distribution."
   ]
  },
  {
   "cell_type": "markdown",
   "metadata": {},
   "source": [
    "- Tag-along, drag-along rights protect the interests of managers, not the private equity firm. Tag-along, drag-along rights ensure that any potential future acquirer of the company may not acquire control without extending an acquisition offer to all shareholders, including the management of the company.\n",
    "\n",
    "- Liquidation preferences place the returns of the private equity firm ahead of those of other investors, including the portfolio firm’s managers.\n",
    "\n",
    "- Private equity firms may require that certain strategically important decisions (such as acquisitions or divestitures) be approved by the private equity firm, protecting its equity interests, not those of managers."
   ]
  },
  {
   "cell_type": "markdown",
   "metadata": {},
   "source": [
    "### VC vs Buyout\n",
    "- Venture capital investments, which are commonly the result of relationships between venture capitalists and entrepreneurs (existing shareholders or owners). Most buyout transactions are auctions, which involve multiple potential acquirers.\n",
    "\n",
    "- Buyout targets often offer potential for cost reductions.\n",
    "\n",
    "- Buyout targets typically have experienced management teams."
   ]
  },
  {
   "cell_type": "markdown",
   "metadata": {},
   "source": [
    "### DPI, RVPI, TVPI\n",
    "Paid-in capital: This is just the cumulative sum of the capital called down. \n",
    "\n",
    "Management fees: In each year, these are calculated as the percentage fee (here 2%) multiplied by the\n",
    "paid-in capital. \n",
    "\n",
    "Carried interest: Carried interest is not paid until the GP generates realized and unrealized returns (as\n",
    "reflected in the NAV before distributions) greater than the committed capital.\n",
    "\n",
    "NAV before distributions = NAV after distributions in prior year + capital called down – management fees + operating\n",
    "result\n",
    "\n",
    "NAV after distributions = NAV before distributions – carried interest – distributions\n",
    "\n",
    "DPI: The DPI multiple is calculated as the cumulative distributions divided by the paid-in capital. DPI=1.0 indicates that, in terms of distributed returns, the fund has returned every dollar invested.\n",
    "\n",
    "RVPI: The RVPI multiple is calculated as the NAV after distributions (i.e., the net non-distributed value of\n",
    "the fund) divided by the paid-in capital: $174.2 / $140 = 1.24. This indicates that, although the distributed\n",
    "returns are not impressive for this fund, the fund has ***unrealized*** profits that should accrue to the LPs as\n",
    "investments are harvested.\n",
    "\n",
    "TVPI: The TVPI multiple is the sum of the DPI and RVPI: 1.0 + 1.24 = 2.24. This indicates that on a ***realized\n",
    "and unrealized*** basis, the GP has more than doubled the investment of the LPs."
   ]
  },
  {
   "cell_type": "markdown",
   "metadata": {},
   "source": [
    "## 46. Commodities and Commodity Derivatives: An Introduction"
   ]
  },
  {
   "cell_type": "code",
   "execution_count": 2,
   "metadata": {},
   "outputs": [
    {
     "name": "stdout",
     "output_type": "stream",
     "text": [
      "|                 |                |                |                |\n",
      "| :---------------|:---------------|:---------------|:---------------|\n",
      "|                 |                |                |                |\n",
      "|                 |                |                |                |\n",
      "|                 |                |                |                |\n",
      "|                 |                |                |                |\n",
      "|                 |                |                |                |\n"
     ]
    }
   ],
   "source": [
    "def printtable(rows, cols):\n",
    "    print '|',\"                |\"*cols\n",
    "    print '|',\":---------------|\"*cols\n",
    "    for i in range(rows):\n",
    "        print \"|\" ,\"                |\"*cols\n",
    "        \n",
    "printtable(5,4)   "
   ]
  },
  {
   "cell_type": "markdown",
   "metadata": {},
   "source": [
    "\n",
    "\n",
    "|                 |weather                |storage                |perishable                |\n",
    "| :---------------|:---------------|:---------------|:---------------|\n",
    "|energy                 |sensitive <br>Because energy production is often located in coastal zones, it can be susceptible to severe weather conditions, such as hurricanes.<br> In addition, energy demand is seasonal, with gasoline consumption rising in summer months and fuel oil consumption increasing in cold weather.                |Y                |non-perishable                |\n",
    "|metals                 |                | Y               |non-perishable                |\n",
    "|grains                 |                |Y                |                |\n",
    "|livestock                 |                |Y (short period)               |highly                |\n",
    "|                 |                |                |                |"
   ]
  },
  {
   "cell_type": "markdown",
   "metadata": {},
   "source": [
    "Total return = Price return + Roll return + Collateral return\n",
    "\n",
    "... = Price return + Roll return + (Risk-free rate × Initial collateral required)\n",
    "\n"
   ]
  },
  {
   "cell_type": "markdown",
   "metadata": {},
   "source": [
    "### Participants\n",
    "\n",
    "- Arbitrageurs have the ability to inventory physical commodities and can capitalize on mispricing between the commodity (along with storage and financing cost) and the futures price by purchasing the commodity in the spot market and holding it in storage until a future date.\n",
    "\n",
    "- Speculators trade commodities without ever taking physical possession.\n",
    "\n",
    "- Informed investors primarily keep commodity futures markets efficient by capitalizing on mispricing attributable to a lack of information in the marketplace. As with speculators, informed investors do not take physical possession of the commodity for storage until a future date"
   ]
  },
  {
   "cell_type": "markdown",
   "metadata": {},
   "source": [
    "### Theories\n",
    "\n",
    "Insurance: Backwardation (FP<SP)\n",
    "\n",
    "Hedging Pressure: FP=SP\n",
    "\n",
    "Storage: Contago (FP>SP)"
   ]
  },
  {
   "cell_type": "code",
   "execution_count": null,
   "metadata": {
    "collapsed": true
   },
   "outputs": [],
   "source": []
  }
 ],
 "metadata": {
  "kernelspec": {
   "display_name": "Python 2",
   "language": "python",
   "name": "python2"
  },
  "language_info": {
   "codemirror_mode": {
    "name": "ipython",
    "version": 2
   },
   "file_extension": ".py",
   "mimetype": "text/x-python",
   "name": "python",
   "nbconvert_exporter": "python",
   "pygments_lexer": "ipython2",
   "version": "2.7.13"
  }
 },
 "nbformat": 4,
 "nbformat_minor": 2
}
