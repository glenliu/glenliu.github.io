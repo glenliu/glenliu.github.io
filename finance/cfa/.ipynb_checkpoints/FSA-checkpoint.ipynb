{
 "cells": [
  {
   "cell_type": "markdown",
   "metadata": {},
   "source": [
    "# FSA #"
   ]
  },
  {
   "cell_type": "markdown",
   "metadata": {},
   "source": [
    "## Reading 16 Intercorporate Investments ##\n",
    "by Susan Perry Williams, CPA, CMA, PhD"
   ]
  },
  {
   "cell_type": "markdown",
   "metadata": {},
   "source": [
    "### HTM ###\n",
    "The investment in Alme was classified as held to maturity. Therefore, Dagmar would use amortized cost as the method to account for the investment, and the effect on net earnings would be the interest revenue earned for the year at the effective market rate at the time of purchase by Dagmar (6%).\n",
    "\n",
    "The interest revenue (in thousands) for 2013 can be calculated in two ways:\n",
    "\n",
    " - Market rate at issue × Book value at the beginning of the year (see supporting calculations for the book value):\n",
    "6.0% × €3,705.6 = €222.3\n",
    "\n",
    " - Interest coupon payment received + Amortization of the bond discount (see supporting calculations)\n",
    "€200 + €22.3 = €222.3\n",
    "\n",
    "Supporting Calculations: The book value (in thousands) of the bond at any point in time is the present value of the remaining cash flows discounted at the historical market rate (the rate at the date of purchase).\n",
    "\n",
    " |         |\tInputs |\tCalculations |\tValue |\n",
    " | :-------| :-------  | :-------| :-------        |\n",
    "|Book value of the bond at 1 January 2013 |\tFace value = €4,000 Coupon = 5% × €4,000 = 200 Market interest rate = 6% Number of years = 10\t| Using a financial calculator: FV = €4,000, PMT = €200 I = 6%, N = 10 Compute PV\t| €3,705.6 |\n",
    "|Book value of the bond at 31 December 2013 (1 January 14)\t|Face value = €4,000 Coupon = 5% × €4,000 = 200 Market interest rate = 6% Number of years = 9\t| FV = €4,000, PMT = €200 I = 6%, N = 9 Compute PV\t| €3,727.9|\n",
    "|Bond amortization for 2013 | | Difference in book value = €3,727.9 − €3,705.6 =\t|€22.3|"
   ]
  },
  {
   "cell_type": "markdown",
   "metadata": {},
   "source": [
    "### Equity Method ###\n",
    "\n",
    " Dagmar would use the equity method to account for its investment in Elbe because of its classification as an associated company. Therefore, Dagmar will include its proportionate share of Elbe’s net earnings, minus the amortization of the excess purchase price from the initial acquisition. Dagmar owns 30%: (1.8/6.0, in millions of shares) of Elbe.\n",
    "\n",
    " |Item|\tCalculations\t | Value|\n",
    " |:---|:-----------------|:-----|\n",
    "|Percentage of Elbe’s net income (in thousands)\t|30% × €12,375\t|€3,712.5|\n",
    "|Minus amortization of the excess value (in thousands) of tangible assets at acquisition (from Exhibit 2)|\t€5,250 × 30% = €1,575 €1,575/15 years\t|–€105.0|\n",
    "|Investment income (in thousands) from Elbe in 2013\t|| \t€3,607.5|"
   ]
  },
  {
   "cell_type": "markdown",
   "metadata": {},
   "source": [
    "Although Suburban’s ownership interest (24%) in West Reach exceeds the amount that is normally deemed sufficient to presume significant influence (20%), the inability to elect directors or influence the firm’s policy making indicates a lack of significant influence. It would thus be inappropriate to account for its holdings under the equity method, but given the long-term duration of the planned investment, an available-for-sale investment (or fair value through other comprehensive income) would seem to be the most appropriate. The investment should be remeasured and recognized at fair value on the balance sheet with any unrealized gains or losses arising from the difference between the carrying amount and fair value reported in shareholders’ equity (other comprehensive income)."
   ]
  },
  {
   "cell_type": "markdown",
   "metadata": {},
   "source": [
    "Calculation of investment in associates account, in thousands as at end of 2014\n",
    "\n",
    "\n",
    "\n",
    " |Start of year investment\t                 |USD1,365.00\t           |Amount paid|\n",
    " |:--------------------                       |:------------------|:------------------|\n",
    " | + Share of net income\t                     |390.00\t           |32.5% x 1,200        |\n",
    " | – Share of dividends received               |\t(163.80)           |32.5% × 504          |\n",
    " | – Amortization of excess amount paid for PPE|\t(22.23)            |\t32.5% × 684/10 years|\n",
    " | End of year investment\t                     |$1,568.97\t           |                     |"
   ]
  },
  {
   "cell_type": "markdown",
   "metadata": {},
   "source": [
    "### Impairment Loss ###\n",
    "Under IFRS, there must be objective evidence of impairment as a result of one or more events after the initial recognition that have an effect on the investment’s future cash flows and that can be reliably measured. Ferdinand is correct in his statement that Elbe has been able to maintain dividend payments. Current dividends are €0.50 on earnings per share of €12,373/6,000 = €2.06, for a payout ratio of 24%, implying that cash flows do not appear to be impaired. Therefore, the investment should not be considered impaired for that reason. If the investment’s fair market value is below its carrying (book) value and the decline is deemed other than temporary, an impairment loss must be recognized. According to Christoph, however, the market value “has just now fallen” below the book value, and there is no indication that the situation of fair value below carrying value is other than temporary. Under the equity method, the investment is not carried at market value. Goodwill is not tested separately for impairment for investments using the equity method.\n",
    "\n",
    "Under IFRS the goodwill is not tested separately from the investment as it is with investments being accounted for by consolidation.\n",
    "\n",
    "The fact that book value is greater than share value alone is not evidence of impairment."
   ]
  },
  {
   "cell_type": "markdown",
   "metadata": {},
   "source": [
    "### Bond impair ###\n",
    "\n",
    "The earliest point at which it would have been appropriate for Dagmar to consider the investment in Bergenfeld to be impaired is November, at which time the borrower encountered financial difficulty and received a concession from lenders as a result.\n",
    "\n",
    "Insufficient evidence of an impairment.\n",
    "  - The downgrading of debt (in August) \n",
    "  - The disappearance of an active market for a security (October) alone"
   ]
  },
  {
   "cell_type": "markdown",
   "metadata": {},
   "source": [
    "## Reading 17 Employee Compensation: Post-Employment and ShareBased ##\n",
    "by Elaine Henry, PhD, CFA, and Elizabeth A. Gordon, PhD, MBA, CPA"
   ]
  },
  {
   "cell_type": "markdown",
   "metadata": {},
   "source": [
    "### Funded status - ceilling ###\n",
    "\n",
    "The unionized plan is a defined-benefit plan, and the amount reported on the balance sheet is normally the net of the fair value of plan assets less the present value of defined-benefit obligation (16.6 – 15.5 = 1.1 million). However, if the plan has a surplus, as this one does, the net pension asset is ***subject to a ceiling*** defined as the present value of available refunds and reductions in future contributions, which in this plan is \\$500,000."
   ]
  },
  {
   "cell_type": "markdown",
   "metadata": {},
   "source": [
    "## Reading 18 Multinational Operations  ##\n",
    "by Timothy S. Doupnik, PhD, and Elaine Henry, PhD, CFA"
   ]
  },
  {
   "cell_type": "markdown",
   "metadata": {},
   "source": [
    "### 1. Define FC, LC, RC and methods ###"
   ]
  },
  {
   "cell_type": "markdown",
   "metadata": {},
   "source": [
    " The functional currency is the currency of the primary economic environment in which an entity operates. "
   ]
  },
  {
   "cell_type": "markdown",
   "metadata": {},
   "source": [
    "The functional currency of Tagus currently appears to be GBP. The operations of Tagus are presently just an extension of Thames as supported by the fact that the only source of revenue is payments from Thames, received in GBP. Even though Tagus incurs most costs and its financing (long-term debt) in EUR, under IFRS, Factors 1 and 2 (dealing with revenues and sales prices) rank higher than Factors 3 and 4 (dealing with operating and financing costs) when determining functional currency.\n",
    "\n",
    "Under IFRS, when the functional currency of the subsidiary is the same as the parent, the temporal method should be used to translate the subsidiary’s financial statements."
   ]
  },
  {
   "cell_type": "markdown",
   "metadata": {},
   "source": [
    "### 2. Calculation ###"
   ]
  },
  {
   "cell_type": "markdown",
   "metadata": {},
   "source": [
    "#### 2.1 FX using for different item ####"
   ]
  },
  {
   "cell_type": "markdown",
   "metadata": {},
   "source": [
    "#### 2.2 Net Exposure: Gain/Loss if FX appr/depr####"
   ]
  },
  {
   "cell_type": "markdown",
   "metadata": {},
   "source": [
    "##### CR method\n",
    "\n",
    "Net exposure = T.A - T.L = Equity, normally positive exposure\n",
    "\n",
    " - FX appr => Gain\n",
    " - FX depr => Loss\n",
    "\n",
    "\n",
    "##### Temporal method\n",
    "\n",
    "Net exposure = ___T.A - T.L = Equity__, normally positive exposure\n",
    "\n",
    " ___- FX appr => Gain\n",
    " - FX depr => Loss___\n",
    "\n",
    "\n",
    "Thames is using the temporal method for its translation of Tagus, and the initial exposure is a net liability exposure (monetary liabilities of EUR13,500 exceed the monetary assets of EUR4,000). The EUR strengthened against the GBP during the six-month period (from GBP0.7200/EUR to GBP0.7500/EUR). The net effect of having a net liability position in a strengthening currency will be a translation loss for Thames, which, under the temporal method, is reported in net income."
   ]
  },
  {
   "cell_type": "markdown",
   "metadata": {},
   "source": [
    "#### 2.3 Ratios affect ####\n",
    "Ratios would be unaffected by choice of translation method:\n",
    "  - Accounts receivable turnover ratio = $ \\frac {sales}{avg A/R}$\n",
    "  \n",
    "  Under both the current method and the temporal method, both sales and accounts receivable are translated at the same rates: average for sales and year-end for accounts receivable (accounts receivable are a monetary asset for the temporal method). Therefore, this ratio would not be affected by the method of translation.\n",
    " \n",
    "\n",
    "  - Current ratio.\n",
    "\n",
    "because under the temporal method, the monetary (cash and A/R) and non-monetary (inventory) components of current assets are translated at different rates (balance sheet rate and historical respectively) vs. under the current rate method, where all are translated at the balance sheet rate. Therefore, the ratio will differ under the two methods because the total current assets once translated would differ.\n",
    "\n",
    "  - Operating profit margin\n",
    "  \n",
    "because the sales are translated at the same rate (average) under the temporal and current methods, but the costs of goods sold are not. Under the current method they are at average, but under the temporal method it depends on when the inventory was purchased. Therefore, the ratios will differ under the two methods."
   ]
  },
  {
   "cell_type": "markdown",
   "metadata": {},
   "source": [
    "#### 2.4 FX Gain/Loss ####\n",
    "\n",
    "##### Temporal method: I/S\n",
    "\n",
    "1. B/S:  $ R/E_E=Equity- Capital$\n",
    "2. I/S:  $R/E_E=R/E_B+NI-Div$ => NI before translation\n",
    "3. FX G/L = Equity- Capital - $R/E_E$\n",
    "\n",
    "#####  CR method: B/S->OCI->CTA\n",
    "1. I/S: Use Avg rate to calc NI\n",
    "2. B/S: Use CR to calc Equity\n",
    "3. $R/E_E=R/E_B+NI-Div$\n",
    "4. FX G/L (CTA) = Equity- Capital - $R/E_E$"
   ]
  },
  {
   "cell_type": "markdown",
   "metadata": {},
   "source": [
    "### 3. Hyperinflation ###"
   ]
  },
  {
   "cell_type": "markdown",
   "metadata": {},
   "source": [
    "## Reading 19 Evaluating Quality of Financial Reports ##\n",
    "by Jack T. Ciesielski, Jr., CPA, CFA, Elaine Henry, PhD, CFA, and Thomas I. Selling, PhD, CPA"
   ]
  },
  {
   "cell_type": "markdown",
   "metadata": {},
   "source": [
    "## Reading 20 Integration of Financial Statement Analysis Techniques ##\n",
    "by Jack T. Ciesielski, Jr., CPA, CFA"
   ]
  },
  {
   "cell_type": "markdown",
   "metadata": {},
   "source": [
    "### 1. ROE ###"
   ]
  },
  {
   "cell_type": "markdown",
   "metadata": {},
   "source": [
    "#### 1.1 Dupont Analysis"
   ]
  },
  {
   "cell_type": "markdown",
   "metadata": {},
   "source": [
    "#### 1.2 Improve ROE\n",
    "\n",
    "- improve 5 factors\n",
    "- Remove divisions with low EBIT/Capital"
   ]
  },
  {
   "cell_type": "markdown",
   "metadata": {},
   "source": [
    "### 2. Quality of Earnings ###\n",
    "\n",
    "#### 2.1 B/S\n",
    "\n",
    "$NOA=(T.A-Cash)-(T.L-Debt)$\n",
    "\n",
    "$AA_{B/S}=NOA_E-NOA_B$\n",
    "\n",
    "$AR_{B/S}=\\frac{NOA_E-NOA_B}{AvgNOA}$,\n",
    "\n",
    "#### 2.2 CF/S\n",
    "$AA_{CF/S}=NI-CFO-CFI$\n",
    "\n",
    "$AR_{CF/S}=\\frac{NI-CFO-CFI}{AvgNOA}$"
   ]
  },
  {
   "cell_type": "code",
   "execution_count": null,
   "metadata": {
    "collapsed": true
   },
   "outputs": [],
   "source": []
  }
 ],
 "metadata": {
  "kernelspec": {
   "display_name": "Python 2",
   "language": "python",
   "name": "python2"
  },
  "language_info": {
   "codemirror_mode": {
    "name": "ipython",
    "version": 2
   },
   "file_extension": ".py",
   "mimetype": "text/x-python",
   "name": "python",
   "nbconvert_exporter": "python",
   "pygments_lexer": "ipython2",
   "version": "2.7.13"
  }
 },
 "nbformat": 4,
 "nbformat_minor": 2
}
