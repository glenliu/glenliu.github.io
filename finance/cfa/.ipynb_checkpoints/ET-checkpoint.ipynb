{
 "cells": [
  {
   "cell_type": "markdown",
   "metadata": {},
   "source": [
    "# ET #"
   ]
  },
  {
   "cell_type": "markdown",
   "metadata": {},
   "source": [
    "## Reading 1 Code of Ethics and Standards of Professional Conduct Standards of Practice Handbook, 11th Edition ##"
   ]
  },
  {
   "cell_type": "markdown",
   "metadata": {},
   "source": [
    "## Reading 2 Guidance for Standards I–VII Standards of Practice Handbook, 11th Edition ##"
   ]
  },
  {
   "cell_type": "markdown",
   "metadata": {},
   "source": [
    "Standard III(D)–Performance Presentation recommends that performance presentations include a weighted composite of similar portfolios rather than using a single representative account, such as a composite including all client accounts.\n"
   ]
  },
  {
   "cell_type": "markdown",
   "metadata": {},
   "source": [
    "According to the standard 3(D): Performance presentation: A recommended practice is presenting the performance using a weighted composite of similar portfolios rather than a single account. The way answer B is written, it is specifically referring to the firm composite, which is compliant with GIPS. Kostecka's composite includes all of his client accounts, which may or may not be a composite of similar portfolios. "
   ]
  },
  {
   "cell_type": "markdown",
   "metadata": {},
   "source": [
    "According to Standard IV(C)–Responsibilities of Supervisors, if a compliance system is non-existent or if an existing compliance system is inadequate, a member should not accept supervisory responsibility until the firm adopts reasonable procedures to allow adequate exercise of supervisory responsibilities. McGuinn should thus undertake a review prior to accepting the position, ascertaining that proper policies and procedures are in place. McGuinn’s authority and responsibility appear to have been clearly defined through his written terms of reference, and he was given authority to implement needed changes. McGuinn would be required, however, to supervise and coordinate the implementation through the human resources department."
   ]
  },
  {
   "cell_type": "markdown",
   "metadata": {},
   "source": [
    "## Reading 3 CFA Institute Research Objectivity Standards ##"
   ]
  },
  {
   "cell_type": "markdown",
   "metadata": {},
   "source": [
    " Conflicts of interest are not eliminated through the implementation of the CFA Institute ROS. One of the objectives of the CFA Institute ROS is to promote policies and procedures that minimize and manage conflicts of interest that may jeopardize a research analyst’s independence and objectivity."
   ]
  },
  {
   "cell_type": "markdown",
   "metadata": {},
   "source": [
    "The CFA Institute ROS requires the formal written policy on the independence and objectivity of research to be disseminated to __ all employees of the firm __, not just those involved with the preparation of research reports and their supervisors."
   ]
  },
  {
   "cell_type": "markdown",
   "metadata": {},
   "source": [
    "Standard 6.0–Relationships with Subject Companies __prohibits__ research analysts from directly or indirectly promising a subject company a specific price target or rating. This is a requirement of Standard 6.0, not just a recommendation.\n",
    "\n",
    "Standard 6.0 __recommends__ only factual portions of the report be sent to the subject company prior to publication for verification.\n",
    "\n",
    "Standard 6.0 __recommends__ that material gifts or entertainment provided by the subject company only be accepted if allowed by the firm’s policies"
   ]
  },
  {
   "cell_type": "markdown",
   "metadata": {},
   "source": [
    "Standard 7.0 requires __only covered__ employees to report their transactions. \n",
    "\n",
    "Standard 7.0 does __not require or recommend__ that transactions in diversified investment companies be reported. "
   ]
  },
  {
   "cell_type": "markdown",
   "metadata": {},
   "source": [
    "Standard 7.0, trading contrary to the firm’s recommendations can only occur in the instance of financial hardship and hardship should be defined, evidence of the same be provided and approved by either compliance or legal"
   ]
  },
  {
   "cell_type": "markdown",
   "metadata": {},
   "source": [
    "Restricted periods should be in place at least 30 calendar days before and 5 calendar days after recommendations"
   ]
  },
  {
   "cell_type": "markdown",
   "metadata": {},
   "source": [
    "## Reading 4 The Glenarm Company ##\n",
    "by Glen A. Holden, Jr., CFA"
   ]
  },
  {
   "cell_type": "markdown",
   "metadata": {},
   "source": [
    "## Reading 5 Preston Partners ##\n",
    "by Jules A. Huot, CFA"
   ]
  },
  {
   "cell_type": "markdown",
   "metadata": {},
   "source": [
    "## Reading 6 Super Selection ##\n",
    "by Zoe L. Van Schyndel, CFA"
   ]
  },
  {
   "cell_type": "markdown",
   "metadata": {},
   "source": [
    "## Reading 7 Trade Allocation: Fair Dealing and Disclosure ##\n",
    "Reading 8 Changing Investment Objectives "
   ]
  },
  {
   "cell_type": "code",
   "execution_count": null,
   "metadata": {
    "collapsed": true
   },
   "outputs": [],
   "source": []
  }
 ],
 "metadata": {
  "kernelspec": {
   "display_name": "Python 2",
   "language": "python",
   "name": "python2"
  },
  "language_info": {
   "codemirror_mode": {
    "name": "ipython",
    "version": 2
   },
   "file_extension": ".py",
   "mimetype": "text/x-python",
   "name": "python",
   "nbconvert_exporter": "python",
   "pygments_lexer": "ipython2",
   "version": "2.7.13"
  }
 },
 "nbformat": 4,
 "nbformat_minor": 2
}
