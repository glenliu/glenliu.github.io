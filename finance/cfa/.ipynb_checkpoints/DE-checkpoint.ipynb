{
 "cells": [
  {
   "cell_type": "markdown",
   "metadata": {},
   "source": [
    "# DE #"
   ]
  },
  {
   "cell_type": "markdown",
   "metadata": {},
   "source": [
    "## Reading 40 Pricing and Valuation of Forward Commitments ##\n",
    "by Robert E. Brooks, PhD, CFA, and Barbara Valbuzzi, CFA"
   ]
  },
  {
   "cell_type": "markdown",
   "metadata": {},
   "source": [
    "### IRS Pricing & Valuation"
   ]
  },
  {
   "cell_type": "markdown",
   "metadata": {},
   "source": [
    "Whitney advises Novatel to enter into a one-year pay-floating Libor receive-fixed interest rate swap with quarterly payments. The notional principal on the swap will be $250,000,000. Whitney’s first task is to determine the appropriate swap rate.\n",
    "\n",
    "CURRENT TERM STRUCTURE OF RATES (%)\n",
    "\n",
    "|Days|Libor|Euribor|Hibor|\n",
    "|---:|---:|---:|---:|\n",
    "|90|1.42|1.86|1.22|\n",
    "|180|1.84|2.11|1.53|\n",
    "|270|2.12|2.24|1.7|\n",
    "|360|3.42|2.34|1.87|"
   ]
  },
  {
   "cell_type": "markdown",
   "metadata": {},
   "source": [
    "Valuation\n",
    "\n",
    "TERM STRUCTURE OF RATES 90 DAYS LATER (%)\n",
    "\n",
    "|Days|Libor|Euribor|Hibor|\n",
    "|---:|---:|---:|---:|\n",
    "|90|2.21|2.94|1.95|\n",
    "|180|2.62|3.03|2.45|\n",
    "|270|3.73|3.08|2.7|\n",
    "\n",
    "The present value factors are provided below:\n",
    "\n",
    "PV(90)\t0.994505\n",
    "PV(180)\t0.987069\n",
    "PV(270)\t0.972786\n",
    "For example, PV(180) is calculated as:\n",
    "\n",
    "11+0.0262×(180/360)=0.987069\n",
    "Other present value factors are calculated in a similar manner. Using the fixed rate initially determined for the swap and the current PV factors, the current value of the fixed bond is:\n",
    "\n",
    "FB\t=\t$C\\sum_{i=1}^{n}PV_{t,ti}(1)+PV_{0,t_n}$\n",
    " \t=\t0.008396(0.994505+0.987069+0.972786)+0.972786\n",
    " \t=\t0.997591\n",
    "    \n",
    "The value of the floating rate bond at reset is 1. The market value of the pay-floating, receive-fixed rate swap is the value of the fixed-rate bond less the value of the floating-rate bond, or \\$250,000,000 × (0.997591 − 1.000) = −\\$602,250.\n",
    "\n",
    "Using an alternative approach, the new fixed swap rate would be\n",
    "\n",
    "$r_{FIX}=\\frac{\t1.0−PV_{0,t_n}(1)}{\\sum_{i=1}{n}PV_{0,t_n}(1)}$\n",
    "\n",
    " \t=\t$ \\frac {1.0−0.972786}{0.994505+0.987069+0.972786}$\n",
    "    \n",
    " \t=\t0.009211\n",
    "    \n",
    "And the value of the swap is the difference between the value at the old rate and the value at the new rate, or\n",
    "\n",
    "V\t=\t$(FS_0−FS_t)\\sum_{i=1}^nPV{t,t_i}$\n",
    "\n",
    " \t=\t(0.008396−0.009211)×(0.9945+0.9871+0.9728)\n",
    "    \n",
    " \t=\t−0.002409\n",
    "    \n",
    "The swap value\t = \t\\$250,000,000 × −0.002409 = −\\$602,250"
   ]
  },
  {
   "cell_type": "markdown",
   "metadata": {},
   "source": [
    "### Currency swap"
   ]
  },
  {
   "attachments": {},
   "cell_type": "markdown",
   "metadata": {},
   "source": [
    "EXHIBIT 1\n",
    "CURRENT TERM STRUCTURE OF RATES (%)\n",
    "\n",
    "Days|Libor|Euribor|Hibor\n",
    "----|----|----|---\n",
    "90|1.42|1.86|1.22\n",
    "180|1.84|2.11|1.53\n",
    "270|2.12|2.24|1.7\n",
    "360|3.42|2.34|1.87\n"
   ]
  },
  {
   "cell_type": "markdown",
   "metadata": {},
   "source": [
    "Q1:Based on the information in Exhibit 1 and using a 30/360 day count, the annualized fixed rates on the currency swap suggested by Whitney for Grand for euros and Hong Kong dollars, respectively, will be closest to:\n",
    "\n",
    "2.34% and 1.87%.\n",
    "\n",
    "2.13% and 1.58%.\n",
    "\n",
    "2.32% and 1.85%."
   ]
  },
  {
   "cell_type": "markdown",
   "metadata": {},
   "source": [
    "A: The appropriate PV factors for Euribor and Hibor are calculated from Exhibit 1.\n",
    "\n",
    "\n",
    " |Euribor|Hibor|\n",
    "----|----|---\n",
    "PV(90)|0.995372|0.996959\n",
    "PV(180)|0.989560|0.992408\n",
    "PV (270)|0.983478|0.987411\n",
    "PV (360)|0.977135|0.981643\n",
    "Sum|3.945544|3.958421\n",
    "\n",
    "rFIX,€| = |1.0−PV0,tn(1)∑i=1nPV0,tn(1)=1−0.977135(3.945544)=0.005795\n",
    "\n",
    "rFIX,HK\\$| = |1.0−PV0,tn(1)∑i=1nPV0,tn(1)=1−0.981643(3.958421)−=0.004637\n",
    "\n",
    "The annualized rate is simply (360/90) times the 90-day rates or 2.3181% for Euros and 1.8550% for HK\\$."
   ]
  },
  {
   "cell_type": "markdown",
   "metadata": {},
   "source": [
    "Next, Whitney meets with Grand Manufacturing. This client is based in Hong Kong but requires a €25,000,000 one-year bridge loan to fund operations in Germany. Grand Manufacturing is currently able to borrow euros at an interest rate of 3.75% but wonders if there is a less expensive alternative. Whitney advises Grand to borrow in HK\\$ and enter into a one-year foreign currency swap with quarterly payments to pay euros at a fixed rate and receive HK\\$ at a fixed rate. The current exchange rate is HK\\$11.42 per €1, and the notional amounts will be exchanged at initiation and at maturity."
   ]
  },
  {
   "cell_type": "markdown",
   "metadata": {},
   "source": [
    "EXHIBIT 2TERM STRUCTURE OF RATES 90 DAYS LATER (%)\n",
    "\n",
    "Days|Libor|Euribor|Hibor\n",
    "---|---|----|----\n",
    "90|2.21|2.94|1.95\n",
    "180|2.62|3.03|2.45\n",
    "270|3.73|3.08|2.7"
   ]
  },
  {
   "cell_type": "markdown",
   "metadata": {},
   "source": [
    "\n",
    "Q2. Using the data in Exhibit 2, the market value of Grand Manufacturing’s swap after 90 days is closest to:"
   ]
  },
  {
   "cell_type": "markdown",
   "metadata": {},
   "source": [
    "A:Grand borrows HK\\$285,500,000 and exchanges it for €25,000,000 based on the initial exchange rate of HK\\$11.42 per euro. Using the results of question 3, Grand will pay an interest rate of 1.8550% on the borrowed HK dollars and earn 2.3181% on the lent/invested euros.\n",
    "\n",
    "Ninety days into the swap, the exchange rate is HK\\$9.96, and the PV factors are:\n",
    "\n",
    " |Euribor|Hibor\n",
    "----|------|-----\n",
    "PV(90)|0.992704|0.995149\n",
    "PV(180)|0.985076|0.987898\n",
    "PV(270)|0.977422|0.980152\n",
    "Sum|2.955201|2.963199\n",
    "\n",
    "Va = NAa,0(rFIX,a,0∑i=1n′PVt,ti,a+PVt,tn,a)−S0NAb,0(rFIX,b,0∑i=1n′PVt,ti,b+PVt,tn,b)\n",
    "\n",
    "  = €25,000,000×[0.005795(2.9552)+0.977422]−285,500,000/HK\\$/€9.96×[0.004637(2.9632)+0.980152]\n",
    "  \n",
    "  = €24,863,685−€28,489,585\n",
    "  \n",
    "  = −€3,625,900"
   ]
  },
  {
   "cell_type": "markdown",
   "metadata": {},
   "source": []
  },
  {
   "cell_type": "markdown",
   "metadata": {},
   "source": [
    "## Reading 41 Valuation of Contingent Claims ##\n",
    "by Robert E. Brooks, PhD, CFA, and David Maurice Gentle, MEc, BSc, CFA"
   ]
  },
  {
   "cell_type": "markdown",
   "metadata": {},
   "source": [
    "## Reading 42 Derivatives Strategies ##\n",
    "by Robert A. Strong, PhD, CFA, and Russell A. Rhoads, CFA"
   ]
  },
  {
   "cell_type": "markdown",
   "metadata": {
    "collapsed": true
   },
   "source": [
    "|Strategy|What|Purpose/usage|Breakeven|\n",
    "|:-----------------|:-----------------|:-----------------|:-----------------|\n",
    "|Covered call|S-C|1.The primary motivation for covered call options is income generation. The investor believes that the price of the underlying will remain flat (will not increase above the call exercise price). The option premium is considered to be income. However, in considering the return distribution, the investor gives up all gains above the exercise price. The intention is to earn income, not reduce the portfolio’s exposure to the S&P 500.<br><br> 2. To improve on the market, an investor will establish a covered call option position in which the exercise price is below the current price. Because of the option’s time value, the option premium will be greater than the difference between the current price and the exercise price. Presuming that the stock price remains above the exercise price, the stock will be sold at the exercise price on the option expiration date. By utilizing a covered call option, the investor has improved the selling price from today’s current price to an amount that equals the exercise price plus the option premium. In this context, using covered calls intentionally considers that the S&P 500 position will be reduced.<br><br>3.To realize a target price, an investor will establish a covered call option position in which the exercise price is near (typically slightly below) the investor’s target selling price. Target price realization is considered to contain the motivations of both income generation and improving on the market. Should the stock price not increase above the exercise price at expiration, a new covered call option may be established in order to generate income. Should the stock price increase above the exercise price at expiration, then the stock is sold at the exercise price (the investor’s target selling price). In this context, using covered calls intentionally considers that the portfolio’s exposure to the S&P 500 might be reduced.||\n",
    "|Protective put|S+P|For an insurance policy, the amount of the loss that the insured is willing to bear is known as the deductible. For a protective put option, this amount is equivalent to the difference between the stock price and the put exercise price. Bochanski’s statement relates to the deductible.||\n",
    "|Collar|S+P-C|||\n",
    "|Bull spread||||\n",
    "|Bear spread||||\n",
    "|Straddle||||\n",
    "|Calendar spread|-Cst+Clt|||"
   ]
  },
  {
   "cell_type": "markdown",
   "metadata": {},
   "source": [
    "In a calendar spread, the expectation is that a price move is not imminent. That is, the expectation is for an upward price move but after a lag. The trader attempts to capture the decay in time value by selling the near-dated call option and buying the long-dated call option with the same strike price. If the price does not move up immediately as the trader expects, the near-dated call option will expire worthless and the trader will capture the time value."
   ]
  },
  {
   "cell_type": "code",
   "execution_count": null,
   "metadata": {
    "collapsed": true
   },
   "outputs": [],
   "source": []
  }
 ],
 "metadata": {
  "kernelspec": {
   "display_name": "Python 2",
   "language": "python",
   "name": "python2"
  },
  "language_info": {
   "codemirror_mode": {
    "name": "ipython",
    "version": 2
   },
   "file_extension": ".py",
   "mimetype": "text/x-python",
   "name": "python",
   "nbconvert_exporter": "python",
   "pygments_lexer": "ipython2",
   "version": "2.7.13"
  }
 },
 "nbformat": 4,
 "nbformat_minor": 2
}
