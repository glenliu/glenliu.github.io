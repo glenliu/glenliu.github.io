{
 "cells": [
  {
   "cell_type": "markdown",
   "metadata": {},
   "source": [
    "# EQ #"
   ]
  },
  {
   "cell_type": "markdown",
   "metadata": {},
   "source": [
    "## Reading 27 Equity Valuation: Applications and Processes ##\n",
    "by Jerald E. Pinto, PhD, CFA, Elaine Henry, PhD, CFA, Thomas R. Robinson, PhD, CFA, and John D.Stowe, PhD, CFA"
   ]
  },
  {
   "cell_type": "markdown",
   "metadata": {},
   "source": [
    "The harmonic mean tends to mitigate the impact of large outliers. It may aggravate the impact of small outliers, but such outliers are bounded by zero on the downside."
   ]
  },
  {
   "cell_type": "markdown",
   "metadata": {},
   "source": [
    "## Reading 28 Return Concepts ##\n",
    "by Jerald E. Pinto, PhD, CFA, Elaine Henry, PhD, CFA,Thomas R. Robinson, PhD, CFA, and John D.Stowe, PhD, CFA"
   ]
  },
  {
   "cell_type": "markdown",
   "metadata": {},
   "source": [
    "## Reading 29 Industry and Company Analysis ##\n",
    "by Matthew L. Coffina, CFA, Anthony M. Fiore, CFA, and Antonius J. van Ooijen, CFA"
   ]
  },
  {
   "cell_type": "markdown",
   "metadata": {},
   "source": [
    "#### Normalized EPS\n",
    "\n",
    "The average ROE over the most recent full cycle times the current book value is the most appropriate method to use to calculate normalized EPS in ___cyclical__ industries when there have been changes in the company’s ___size__, as is the case for Rapier and its asset growth.\n",
    "\n",
    "Even though the company is mid-cycle, the current EPS may not be the same as the average or normalized EPS over the cycle.\n",
    "\n",
    "Averaging the EPS over the cycle is one way to calculate normalized EPS in a cyclical industry but does not account for changes in the business’s size."
   ]
  },
  {
   "cell_type": "markdown",
   "metadata": {},
   "source": [
    "## Reading 30 Discounted Dividend Valuation ##\n",
    "by Jerald E. Pinto, PhD, CFA, Elaine Henry, PhD, CFA, Thomas R. Robinson, PhD, CFA, and John D. Stowe, PhD, CFA"
   ]
  },
  {
   "cell_type": "markdown",
   "metadata": {},
   "source": [
    "## Reading 31 Free Cash Flow Valuation ##\n",
    "by Jerald E. Pinto, PhD, CFA, Elaine Henry, PhD, CFA,Thomas R. Robinson, PhD, CFA, and John D.Stowe, PhD, CFA"
   ]
  },
  {
   "cell_type": "markdown",
   "metadata": {},
   "source": [
    "## Reading 32 Market-Based Valuation: Price and Enterprise Value Multiples ##\n",
    "by Jerald E. Pinto, PhD, CFA, Elaine Henry, PhD, CFA, Thomas R. Robinson, PhD, CFA, and John D.Stowe, PhD, CFA"
   ]
  },
  {
   "cell_type": "markdown",
   "metadata": {},
   "source": [
    "### harmonic mean\n",
    "\n",
    "The weighted harmonic mean is the value obtained by calculating the weighted average (based on market capitalization weights) of the reciprocals of the observations (the P/E) and then taking the reciprocal of the average. The weighted harmonic mean for Zhang’s index in Exhibit 2 is calculated as follows:\n",
    "\n",
    "\n",
    "| |(1)|(2)|(3)|(4)|(5)|\n",
    "|:----|:----|:----|:----|:----|:----|\n",
    "|Index|Market Cap ($ millions) (Ex 2)|Market Cap \\% Using Column 1 (Weighting)|P/E (Ex 2)|1/(P/E) 1 ÷ (3) (Reciprocal)|Weighted Harmonic Mean (2) × (4)|\n",
    "|FAF Inc.|5.81|0.3|12.9|0.077519|0.0002|\n",
    "|Mila Industries Inc.|26.21|1.4|12.4|0.080645|0.0011|\n",
    "|Watson Brothers Co.|545.62|29.4|5.2|0.192308|0.0566|\n",
    "|Lane Foods Ltd.|700.15|37.8|21.1|0.047393|0.0179|\n",
    "|Delta Delights Inc.|575.53|31.1|18.4|0.054348|0.0169|\n",
    "|Total|1,853.32|100\\%| | |0.0928|\n",
    "|Average (arithmetic mean)| | |14.00| | |\n",
    "|Weighted harmonic mean| ||||1 ÷ (0.0928) = 10.8|"
   ]
  },
  {
   "cell_type": "markdown",
   "metadata": {},
   "source": [
    "## Reading 33 Residual Income Valuation ##\n",
    "by Jerald E. Pinto, PhD, CFA, Elaine Henry, PhD, CFA, Thomas R. Robinson, PhD, CFA, and John D.Stowe, PhD, CFA"
   ]
  },
  {
   "cell_type": "markdown",
   "metadata": {},
   "source": [
    "RI=NI-Equity*Re\n",
    "\n",
    "EVA = NOPAT - WACC*Capital\n",
    "\n",
    "    = EBIT(1-t)-$WACC"
   ]
  },
  {
   "cell_type": "markdown",
   "metadata": {},
   "source": [
    "## Reading 34 Private Company Valuation ##\n",
    "by Raymond D. Rath, ASA, CFA"
   ]
  },
  {
   "cell_type": "code",
   "execution_count": null,
   "metadata": {
    "collapsed": true
   },
   "outputs": [],
   "source": []
  }
 ],
 "metadata": {
  "kernelspec": {
   "display_name": "Python 2",
   "language": "python",
   "name": "python2"
  },
  "language_info": {
   "codemirror_mode": {
    "name": "ipython",
    "version": 2
   },
   "file_extension": ".py",
   "mimetype": "text/x-python",
   "name": "python",
   "nbconvert_exporter": "python",
   "pygments_lexer": "ipython2",
   "version": "2.7.13"
  }
 },
 "nbformat": 4,
 "nbformat_minor": 2
}
