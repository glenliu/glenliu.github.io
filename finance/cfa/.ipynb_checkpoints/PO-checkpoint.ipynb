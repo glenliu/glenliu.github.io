{
 "cells": [
  {
   "cell_type": "markdown",
   "metadata": {},
   "source": [
    "# PO #"
   ]
  },
  {
   "cell_type": "markdown",
   "metadata": {},
   "source": [
    "## Reading 47 The Portfolio Management Process and the Investment Policy Statement ##\n",
    "by John L. Maginn, CFA, Donald L. Tuttle, PhD, CFA, Dennis W. McLeavey, CFA, and Jerald E. Pinto, PhD, CFA"
   ]
  },
  {
   "cell_type": "markdown",
   "metadata": {},
   "source": [
    "## Reading 48 An Introduction to Multifactor Models ##\n",
    "by Jerald E. Pinto, PhD, CFA, and Eugene L. Podkaminer, CFA"
   ]
  },
  {
   "cell_type": "markdown",
   "metadata": {},
   "source": [
    "### APT\n",
    "\n",
    "The assumptions under the APT are as follows:\n",
    "\n",
    "- A factor model describes asset returns.\n",
    "- There are many assets, so investors can form well-diversified portfolios that eliminate asset-specific risk, not factor risk.\n",
    "- No arbitrage opportunities exist among well-diversified portfolios.\n",
    "- The absence of an arbitrage opportunity indicates a condition of financial market equilibrium."
   ]
  },
  {
   "cell_type": "markdown",
   "metadata": {},
   "source": [
    "## Reading 49 Measuring and Managing Market Risk ##\n",
    "by Don M. Chance, PhD, CFA, and Michelle McCarthy Beck"
   ]
  },
  {
   "cell_type": "markdown",
   "metadata": {},
   "source": [
    "## Reading 50 Economics and Investment Markets ##\n",
    "by Andrew Clare, PhD, and Thomas F. Cosimano, PhD"
   ]
  },
  {
   "cell_type": "markdown",
   "metadata": {},
   "source": [
    "## Reading 51 Analysis of Active Portfolio Management ##\n",
    "by Roger G. Clarke, PhD, Harindra de Silva, PhD, CFA, and Steven Thorley, PhD, CFA"
   ]
  },
  {
   "cell_type": "markdown",
   "metadata": {},
   "source": [
    "### aggressive vs passive\n",
    "\n",
    "Tracking error is a synonym for tracking risk or active risk. A well-executed passive investment strategy would achieve the lowest amount of tracking error, whereas an aggressive active equity manager would be expected to have the highest tracking error."
   ]
  },
  {
   "cell_type": "markdown",
   "metadata": {},
   "source": [
    "## Reading 52 Algorithmic Trading and High-Frequency Trading ##\n",
    "by John Bates, PhD"
   ]
  },
  {
   "cell_type": "code",
   "execution_count": null,
   "metadata": {
    "collapsed": true
   },
   "outputs": [],
   "source": []
  }
 ],
 "metadata": {
  "kernelspec": {
   "display_name": "Python 2",
   "language": "python",
   "name": "python2"
  },
  "language_info": {
   "codemirror_mode": {
    "name": "ipython",
    "version": 2
   },
   "file_extension": ".py",
   "mimetype": "text/x-python",
   "name": "python",
   "nbconvert_exporter": "python",
   "pygments_lexer": "ipython2",
   "version": "2.7.13"
  }
 },
 "nbformat": 4,
 "nbformat_minor": 2
}
