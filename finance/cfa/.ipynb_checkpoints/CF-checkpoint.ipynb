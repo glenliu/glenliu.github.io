{
 "cells": [
  {
   "cell_type": "markdown",
   "metadata": {},
   "source": [
    "# CF #"
   ]
  },
  {
   "cell_type": "markdown",
   "metadata": {},
   "source": [
    "## Reading 21 Capital Budgeting ##\n",
    "by John D. Stowe, PhD, CFA, and Jacques R. Gagné, FSA, CFA, CIPM"
   ]
  },
  {
   "cell_type": "markdown",
   "metadata": {},
   "source": [
    "## Reading 22 Capital Structure ##\n",
    "by Raj Aggarwal, PhD, CFA, Pamela Peterson Drake, PhD,CFA, Adam Kobor, PhD, CFA, and Gregory Noronha, PhD, CFA"
   ]
  },
  {
   "cell_type": "markdown",
   "metadata": {},
   "source": [
    "   1. Determine the cost of equity at the proposed debt level\n",
    "\n",
    "According to Modigliani–Miller Proposition II, in the presence of taxes\n",
    "\n",
    "re = r0 + (r0 − rd)(1 − t)(D/E)\n",
    "\n",
    "re = 0.12 + (0.12 − 0.05) × (1 − 0.30) × 0.25 = 13.2%\n",
    "\n",
    "The company is currently unlevered, so its r0 = 12%.\n",
    "\n",
    "\n",
    " 2. Determine the WACC using the levered cost of equity\n",
    "\n",
    "A D/E of 0.25 corresponds to D/V of 0.25/1.25 = 20%.\n",
    "\n",
    "rWACC = D/V × rd(1 − t) + E/V × re\n",
    "\n",
    "rWACC = [0.20 × 0.05 × (1 − 0.30)] + [0.80 × 0.132] = 11.3%"
   ]
  },
  {
   "cell_type": "markdown",
   "metadata": {},
   "source": [
    "## Reading 23 Dividends and Share Repurchases: Analysis ##\n",
    "by Gregory Noronha, PhD, CFA, and George H. Troughton, PhD, CFA"
   ]
  },
  {
   "cell_type": "markdown",
   "metadata": {},
   "source": [
    "Expected Dividend: = Last dividend + Increase in earnings × Target payout ratio × Adjustment factor"
   ]
  },
  {
   "cell_type": "markdown",
   "metadata": {},
   "source": [
    "## Reading 24 Corporate Performance, Governance, and Business Ethics ##\n",
    "by Charles W.L. Hill and Gareth R. Jones"
   ]
  },
  {
   "cell_type": "markdown",
   "metadata": {},
   "source": [
    "## Reading 25 Corporate Governance ##\n",
    "by Rebecca Todd McEnally, PhD, CFA, and Kenneth Kim,PhD"
   ]
  },
  {
   "cell_type": "markdown",
   "metadata": {},
   "source": [
    " The compensation committee should be composed entirely of independent board members under corporate governance best practices.\n",
    "\n",
    "The audit committee should be composed entirely of independent board members under corporate governance best practices."
   ]
  },
  {
   "cell_type": "markdown",
   "metadata": {},
   "source": [
    "### Theories ###\n",
    "\n",
    "Justice Theory is based on the idea of a “veil of ignorance” to create an impartial judgment of a situation.\n",
    "\n",
    "Rights Theory is based on “rights” and “obligations” and not a “veil of ignorance.”\n",
    "\n",
    "Utilitarianism could actually advocate for low worker pay if it promotes a greater good that is not consistent with the statement."
   ]
  },
  {
   "cell_type": "markdown",
   "metadata": {},
   "source": [
    "The reason for not breaking the contract was because QDROP did not break any laws and is consistent with the Friedman doctrine that maintains that the firm only needs to abide by the rule of law.\n",
    "\n",
    "Kantian Ethics would espouse the promotion of workers’ rights which is not the reason for maintaining the contract with QDROP.\n",
    "\n",
    "Rights Theory would espouse the promotion of workers’ rights and obligations which is not the reason for maintaining the contract with QDROP."
   ]
  },
  {
   "cell_type": "markdown",
   "metadata": {},
   "source": [
    " The additional requests by QDROP’s management only benefit QDROP’s existing management team and is an example of “self-dealing.”\n",
    "\n",
    "Opportunistic exploitation by TMTZ’s management is incorrect because a fair price was paid for the acquisition of QDROP by TMTZ.\n",
    "\n",
    "Agency cost is incorrect because there is no principal–agent relationship. Agency costs are the incremental costs arising from conflicts of interest when an agent acts for a principal."
   ]
  },
  {
   "cell_type": "markdown",
   "metadata": {},
   "source": [
    "## Reading 26 Mergers and Acquisitions ##\n",
    "by Rosita P. Chang, PhD, CFA, and Keith M. Moore, CFA"
   ]
  },
  {
   "cell_type": "markdown",
   "metadata": {},
   "source": [
    "Free cash flow \t = \tNet operating profit less adjusted taxes (NOPLAT) + Depreciation − Change in net working capital − Capital expenditures\n",
    "\n",
    "NOPLAT\t = \tNet income + After-tax interest + Change in deferred taxes\n",
    "\n",
    "|Item     | Calc                             | Value|\n",
    "|:----  |:----  |:---- |\n",
    "|NOPLAT\t|369.3 + 1,123.2 × (1 − 0.32) + 0\t|1,133.1|\n",
    "|Plus depreciation (non-cash charges)\t \t|1,282.9|\n",
    "|Less change in net working capital\t|[3,698.9 − 943.7] − [1,538.7 − 820.6]\t|−2,037.1|\n",
    "|Less capital expenditures\t|17,960.6 − 19,243.5 + 1,282.9\t|0.0|\n",
    "   Free cash flow\t \t378.9\n",
    "   \n",
    "Capex = Ending F.A - Begining F.A + Depreciation\n"
   ]
  },
  {
   "cell_type": "markdown",
   "metadata": {},
   "source": [
    "Because of the bootstrapping effect, the EPS of an acquiring firm will increase when the pre-acquisition P/E of the acquirer is higher than the pre-acquisition P/E of the target firm. "
   ]
  },
  {
   "cell_type": "code",
   "execution_count": null,
   "metadata": {
    "collapsed": true
   },
   "outputs": [],
   "source": []
  }
 ],
 "metadata": {
  "kernelspec": {
   "display_name": "Python 2",
   "language": "python",
   "name": "python2"
  },
  "language_info": {
   "codemirror_mode": {
    "name": "ipython",
    "version": 2
   },
   "file_extension": ".py",
   "mimetype": "text/x-python",
   "name": "python",
   "nbconvert_exporter": "python",
   "pygments_lexer": "ipython2",
   "version": "2.7.13"
  }
 },
 "nbformat": 4,
 "nbformat_minor": 2
}
