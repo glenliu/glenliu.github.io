{
 "cells": [
  {
   "cell_type": "markdown",
   "metadata": {},
   "source": [
    "# QA #"
   ]
  },
  {
   "cell_type": "markdown",
   "metadata": {},
   "source": [
    "## 1. Single Regression ##"
   ]
  },
  {
   "cell_type": "markdown",
   "metadata": {},
   "source": [
    "[LaTex math symbols](http://web.ift.uib.no/Teori/KURS/WRK/TeX/symALL.html)"
   ]
  },
  {
   "cell_type": "markdown",
   "metadata": {},
   "source": [
    "### 1.1 Objective ###\n",
    "     \n",
    " \n",
    "   - Use one variable to predict another\n",
    "   - test hypotheses about the relation\n",
    "   - quantify the strength of the relation\n",
    "     \n",
    " Formula: $Y=b_0+b_1 X_1+\\varepsilon$\n",
    " \n",
    " Interpretation:\n",
    "  - $b_0$: intercept, Y when X is zero;\n",
    "  - $b_1$: $\\Delta Y  per  \\Delta X$, \n",
    "      - sensitivity of Y to a change of X\n",
    "      - a.k.a $\\beta$"
   ]
  },
  {
   "cell_type": "markdown",
   "metadata": {},
   "source": [
    "  ### 1.2 Assumption ###\n",
    "  \n",
    "   1. Linear relationship exists: $\\rho(X,Y) \\neq 0$\n",
    "   \n",
    "   2. $\\rho(X,\\varepsilon)=0 \\Leftrightarrow$ X is not random\n",
    "   \n",
    "   3. $E(\\varepsilon)=0$\n",
    "   \n",
    "   4. $Var(\\varepsilon)$ is constant, otherwise: Heteroskedasticity\n",
    "   \n",
    "   5. $E(\\varepsilon_i\\varepsilon_j)=0$, for all $i \\neq j$, otherwise: serial autocorrelation\n",
    "   \n",
    "   6. $\\varepsilon \\sim N(0,\\sigma^2)$  "
   ]
  },
  {
   "cell_type": "markdown",
   "metadata": {},
   "source": [
    "  ###  1.3 Estimation: ###\n",
    "  calc $b_0, b_1$\n",
    "   - Calculator: STAT, DATA\n",
    "   - OLS\n",
    "   \n",
    "      * $b_1= \\frac{cov(x,y)} {\\sigma_x^2} =\\rho \\frac{\\sigma_y}{\\sigma_x}$\n",
    "    \n",
    "      * $b_0=\\bar{Y}-b_1\\bar{X}$\n",
    "     "
   ]
  },
  {
   "cell_type": "markdown",
   "metadata": {},
   "source": [
    "  ### 1.4 Test ###\n",
    "  \n",
    "  \n",
    "  #### 1.4.1 Violation test ####\n",
    "  \n",
    "  \n",
    "  |Assumption|Affect if not present|Test|Solution|\n",
    "|:----------|:----|:----|:--------|\n",
    "|1. Linear relationship exists|cannot do|$H_0: \\rho = 0$<br>t-test stat = $ \\frac {r \\sqrt {n-2}}{\\sqrt{1-r^2}} $; df=n-2 <br>$\\rho=\\frac{cov(X,Y)}{\\sigma_X \\sigma_Y}$|n/a|\n",
    "|4. No heteroskedasticity|Not affect consistency of estimators<br>Coefficient are not affected<br>Std error are unreliable: too small -> t big -> Type 1 error|B-P test <br> $H_0$: No heteroskedasticity<br>$BP=nR_{residual}^2$, df=k<br>Regress between squared residuals and X:<br> $\\varepsilon^2=b_0+b_1X+\\xi$| White<br> GLS<br>Hansen|\n",
    "|5. No serial autocorrelation|Often found in time series<br>Not affect the consistency<br>Positive serial autocorr is common:<br>-- coefficent std error is too small -> t is big -> Type 1 error, F-test unreliable|D-W test<br>$H_0$:No serial autocorr, DW$\\approx$2(1-r)<br><br>0~d1: Reject, positive serial autocorr<br>d1~du: inconclusive;<br>du~2~(4-du):Not reject<br>4-du~4-d1:inconclusive;<br>4-d1~4:Reject, negative serial autocorr| Hansen,<br> use time series model|\n",
    "  "
   ]
  },
  {
   "cell_type": "markdown",
   "metadata": {},
   "source": [
    " #### 1.4.2 Significance test ####\n",
    "  \n",
    "  - Critical method\n",
    "  \n",
    "  $t= \\frac {\\hat{b_1}-0} {S_{\\hat{b_1}}}, df=n-k-1 $\n",
    "  \n",
    "  $S_{\\hat{b_1}}\\uparrow -> SEE \\uparrow$\n",
    "  \n",
    "     \n",
    "  - Confidence interval\n",
    "  \n",
    "  $\\hat{b_1}\\pm t_cS_{\\hat{b_1}}$\n",
    "  \n",
    "  - p-value < $\\alpha$\n",
    "  \n",
    "  reject $H_0$\n",
    "  \n",
    "  "
   ]
  },
  {
   "cell_type": "markdown",
   "metadata": {},
   "source": [
    " #### 1.4.3 ANOVA test ####\n",
    "  \n",
    "|          |df    |SS   |MSS          |\n",
    "|:---      |:---- |:----|:-----       |\n",
    "|Regression|k=1   |RSS  |MSR=RSS/k    |\n",
    "|Error     |n-k-1 |SSE  |MSE=SSE/(n-2)|\n",
    "|Total     |n-1   |SST  | -           |\n",
    "\n",
    "SSE: Sum of squared errors/residuals, $$SSE=\\sum_{i=1}^n(Y_i-\\hat{Y_i})$$\n",
    "RSS: Regression sum of squares, $$RSS=\\sum_{i=1}^n(\\hat{Y_i}-\\bar{Y_i})$$\n",
    "TSS: Total sum of squares, $$TSS=\\sum_{i=1}^n(Y_i-\\bar{Y_i})$$\n",
    "\n",
    "  - SEE: Standard Error of Estimation, $SEE=\\sqrt{\\frac{SSE}{n-k-1}}=\\sqrt{\\frac{SSE}{n-2}}$\n",
    "  - $R^2$: Coefficient of determination, $R^2= \\frac{RSS}{SST} =1- \\frac{SSE}{SST} $"
   ]
  },
  {
   "cell_type": "markdown",
   "metadata": {},
   "source": [
    "   ### 1.5. Limitation: ###\n",
    " - Outliers\n",
    " - Spurious correlation\n",
    " - Nonlinear relationship"
   ]
  },
  {
   "cell_type": "markdown",
   "metadata": {},
   "source": [
    "## 2. Multiple Regression ##"
   ]
  },
  {
   "cell_type": "markdown",
   "metadata": {},
   "source": [
    "### 2.1 Objective ###\n",
    "\n",
    "Formula:\n",
    "\n",
    "$Y=b_0+b_1 x_1+b_2 x_2+b_3 x_3+\\varepsilon$"
   ]
  },
  {
   "cell_type": "markdown",
   "metadata": {},
   "source": [
    "### 2.2 Assumption ###\n",
    "\n",
    "   1. Linear relationship exists: $\\rho(X_i,Y) \\neq 0$\n",
    "   \n",
    "   2. $\\rho(X,\\varepsilon)=0 \\Leftrightarrow$ X is not random\n",
    "   \n",
    "   3. $E(\\varepsilon)=0$\n",
    "   \n",
    "   4. $Var(\\varepsilon)$ is constant, otherwise: Heteroskedasticity\n",
    "   \n",
    "   5. $E(\\varepsilon_i\\varepsilon_j)=0$, for all $i \\neq j$, otherwise: serial autocorrelation\n",
    "   \n",
    "   6. $\\varepsilon \\sim N(0,\\sigma^2)$  \n",
    "   \n",
    "   7. $\\rho(X_i,X_j)=0$, otherwise: Multicollinearity"
   ]
  },
  {
   "cell_type": "markdown",
   "metadata": {},
   "source": [
    "### 2.3 Estimation ###"
   ]
  },
  {
   "cell_type": "markdown",
   "metadata": {},
   "source": [
    "### 2.4 Test ###"
   ]
  },
  {
   "cell_type": "markdown",
   "metadata": {},
   "source": [
    "#### 2.4.1 Violation test ####"
   ]
  },
  {
   "cell_type": "markdown",
   "metadata": {},
   "source": [
    "|Assumption|Affect if present|Test|Solution|\n",
    "|:----------|:----|:----|:--------|\n",
    "|Heteroskedasticity|Not affect consistency of estimators<br>No affect coefficients<br> Unreliable Std error: too small -> t big -> Type 1 error|B-P test <br>$H_0$: No heteroskedasticity<br>$BP=nR_{residual}^2$, df=k<br>Regress between squared residuals and X<br> $\\varepsilon^2=a_0+b_1X+\\xi$| White, GLS, Hansen|\n",
    "|Serial Autocorrelation|Often found in time series<br>Not affect the consistency<br>Positive serial autocorr is common:<br>-- coefficent std error is too small -> t is big -> Type 1 error, F-test unreliable|D-W test<br>$H_0$:No serial autocorr, DW$\\approx$2(1-r)<br><br>0~d1: Reject, positive serial autocorr<br>d1~du: inconclusive;<br>du~2~(4-du):Not reject<br>4-du~4-d1:inconclusive;<br>4-d1~4:Reject, negative serial autocorr| Hansen,<br> use time series model|\n",
    "|Multicollinearity|all|1.All t-test fail & F-test pass & High $R^2$ <br> 2. abs(r)>0.7 <br>3. Common sense|Remove variable (which reduce smallest $R^2$)|"
   ]
  },
  {
   "cell_type": "markdown",
   "metadata": {},
   "source": [
    "#### 2.4.2 Significance test ####"
   ]
  },
  {
   "cell_type": "markdown",
   "metadata": {},
   "source": [
    "#### 2.4.3 ANOVA test ####"
   ]
  },
  {
   "cell_type": "markdown",
   "metadata": {},
   "source": []
  },
  {
   "cell_type": "markdown",
   "metadata": {},
   "source": [
    "### 2.5 Limitation ###\n",
    "\n",
    "Dummy variable\n",
    "\n",
    "Forecast\n",
    "\n",
    " - point estimate\n",
    " - interval:  $\\hat{Y}\\pm t_c S_{\\hat{Y}}$\n",
    " - standard error of forecast"
   ]
  },
  {
   "cell_type": "markdown",
   "metadata": {},
   "source": [
    "## Time Series ##"
   ]
  },
  {
   "cell_type": "markdown",
   "metadata": {},
   "source": [
    "### Trend model ###"
   ]
  },
  {
   "cell_type": "markdown",
   "metadata": {},
   "source": [
    "Formula:\n",
    "\n",
    "$Y=a_0+b_1t+\\varepsilon$"
   ]
  },
  {
   "cell_type": "markdown",
   "metadata": {},
   "source": [
    "### Time series model ###"
   ]
  },
  {
   "cell_type": "markdown",
   "metadata": {},
   "source": [
    "|Assumption|Test|Solution|\n",
    "|----------|----|--------|\n",
    "|Serial Autocorrelation|D-W test| No: Trend model; <br> Yes: AR model|\n",
    "|Covariance stationary|| Yes: AR(1); <br>No: First differencing|\n",
    "|Error Autogression|| Yes: Add lags; <br> |\n",
    "|Heteroskedasticity|ARCH|Yes:GOLS|"
   ]
  },
  {
   "cell_type": "code",
   "execution_count": null,
   "metadata": {
    "collapsed": true
   },
   "outputs": [],
   "source": []
  }
 ],
 "metadata": {
  "kernelspec": {
   "display_name": "Python 2",
   "language": "python",
   "name": "python2"
  },
  "language_info": {
   "codemirror_mode": {
    "name": "ipython",
    "version": 2
   },
   "file_extension": ".py",
   "mimetype": "text/x-python",
   "name": "python",
   "nbconvert_exporter": "python",
   "pygments_lexer": "ipython2",
   "version": "2.7.13"
  }
 },
 "nbformat": 4,
 "nbformat_minor": 2
}
