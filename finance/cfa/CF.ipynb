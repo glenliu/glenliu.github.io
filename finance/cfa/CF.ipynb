{
 "cells": [
  {
   "cell_type": "markdown",
   "metadata": {},
   "source": [
    "# CF #"
   ]
  },
  {
   "cell_type": "markdown",
   "metadata": {},
   "source": [
    "## Reading 21 Capital Budgeting ##\n",
    "by John D. Stowe, PhD, CFA, and Jacques R. Gagné, FSA, CFA, CIPM"
   ]
  },
  {
   "cell_type": "markdown",
   "metadata": {},
   "source": [
    "## Reading 22 Capital Structure ##\n",
    "by Raj Aggarwal, PhD, CFA, Pamela Peterson Drake, PhD,CFA, Adam Kobor, PhD, CFA, and Gregory Noronha, PhD, CFA"
   ]
  },
  {
   "cell_type": "markdown",
   "metadata": {},
   "source": [
    "## Reading 23 Dividends and Share Repurchases: Analysis ##\n",
    "by Gregory Noronha, PhD, CFA, and George H. Troughton, PhD, CFA"
   ]
  },
  {
   "cell_type": "markdown",
   "metadata": {},
   "source": [
    "## Reading 24 Corporate Performance, Governance, and Business Ethics ##\n",
    "by Charles W.L. Hill and Gareth R. Jones"
   ]
  },
  {
   "cell_type": "markdown",
   "metadata": {},
   "source": [
    "## Reading 25 Corporate Governance ##\n",
    "by Rebecca Todd McEnally, PhD, CFA, and Kenneth Kim,PhD"
   ]
  },
  {
   "cell_type": "markdown",
   "metadata": {},
   "source": [
    "## Reading 26 Mergers and Acquisitions ##\n",
    "by Rosita P. Chang, PhD, CFA, and Keith M. Moore, CFA"
   ]
  },
  {
   "cell_type": "code",
   "execution_count": null,
   "metadata": {
    "collapsed": true
   },
   "outputs": [],
   "source": []
  }
 ],
 "metadata": {
  "kernelspec": {
   "display_name": "Python 2",
   "language": "python",
   "name": "python2"
  },
  "language_info": {
   "codemirror_mode": {
    "name": "ipython",
    "version": 2
   },
   "file_extension": ".py",
   "mimetype": "text/x-python",
   "name": "python",
   "nbconvert_exporter": "python",
   "pygments_lexer": "ipython2",
   "version": "2.7.13"
  }
 },
 "nbformat": 4,
 "nbformat_minor": 2
}
