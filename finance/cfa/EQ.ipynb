{
 "cells": [
  {
   "cell_type": "markdown",
   "metadata": {},
   "source": [
    "# EQ #"
   ]
  },
  {
   "cell_type": "markdown",
   "metadata": {},
   "source": [
    "## Reading 27 Equity Valuation: Applications and Processes ##\n",
    "by Jerald E. Pinto, PhD, CFA, Elaine Henry, PhD, CFA, Thomas R. Robinson, PhD, CFA, and John D.Stowe, PhD, CFA"
   ]
  },
  {
   "cell_type": "markdown",
   "metadata": {},
   "source": [
    "## Reading 28 Return Concepts ##\n",
    "by Jerald E. Pinto, PhD, CFA, Elaine Henry, PhD, CFA,Thomas R. Robinson, PhD, CFA, and John D.Stowe, PhD, CFA"
   ]
  },
  {
   "cell_type": "markdown",
   "metadata": {},
   "source": [
    "## Reading 29 Industry and Company Analysis ##\n",
    "by Matthew L. Coffina, CFA, Anthony M. Fiore, CFA, and Antonius J. van Ooijen, CFA"
   ]
  },
  {
   "cell_type": "markdown",
   "metadata": {},
   "source": [
    "## Reading 30 Discounted Dividend Valuation ##\n",
    "by Jerald E. Pinto, PhD, CFA, Elaine Henry, PhD, CFA, Thomas R. Robinson, PhD, CFA, and John D. Stowe, PhD, CFA"
   ]
  },
  {
   "cell_type": "markdown",
   "metadata": {},
   "source": [
    "## Reading 31 Free Cash Flow Valuation ##\n",
    "by Jerald E. Pinto, PhD, CFA, Elaine Henry, PhD, CFA,Thomas R. Robinson, PhD, CFA, and John D.Stowe, PhD, CFA"
   ]
  },
  {
   "cell_type": "markdown",
   "metadata": {},
   "source": [
    "## Reading 32 Market-Based Valuation: Price and Enterprise Value Multiples ##\n",
    "by Jerald E. Pinto, PhD, CFA, Elaine Henry, PhD, CFA, Thomas R. Robinson, PhD, CFA, and John D.Stowe, PhD, CFA"
   ]
  },
  {
   "cell_type": "markdown",
   "metadata": {},
   "source": [
    "## Reading 33 Residual Income Valuation ##\n",
    "by Jerald E. Pinto, PhD, CFA, Elaine Henry, PhD, CFA, Thomas R. Robinson, PhD, CFA, and John D.Stowe, PhD, CFA"
   ]
  },
  {
   "cell_type": "markdown",
   "metadata": {},
   "source": [
    "## Reading 34 Private Company Valuation ##\n",
    "by Raymond D. Rath, ASA, CFA"
   ]
  },
  {
   "cell_type": "code",
   "execution_count": null,
   "metadata": {
    "collapsed": true
   },
   "outputs": [],
   "source": []
  }
 ],
 "metadata": {
  "kernelspec": {
   "display_name": "Python 2",
   "language": "python",
   "name": "python2"
  },
  "language_info": {
   "codemirror_mode": {
    "name": "ipython",
    "version": 2
   },
   "file_extension": ".py",
   "mimetype": "text/x-python",
   "name": "python",
   "nbconvert_exporter": "python",
   "pygments_lexer": "ipython2",
   "version": "2.7.13"
  }
 },
 "nbformat": 4,
 "nbformat_minor": 2
}
