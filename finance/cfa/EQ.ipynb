{
 "cells": [
  {
   "cell_type": "markdown",
   "metadata": {},
   "source": [
    "# EQ #"
   ]
  },
  {
   "cell_type": "markdown",
   "metadata": {},
   "source": [
    "## Reading 27 Equity Valuation: Applications and Processes ##\n",
    "by Jerald E. Pinto, PhD, CFA, Elaine Henry, PhD, CFA, Thomas R. Robinson, PhD, CFA, and John D.Stowe, PhD, CFA"
   ]
  },
  {
   "cell_type": "markdown",
   "metadata": {},
   "source": [
    "The harmonic mean tends to mitigate the impact of large outliers. It may aggravate the impact of small outliers, but such outliers are bounded by zero on the downside."
   ]
  },
  {
   "cell_type": "markdown",
   "metadata": {},
   "source": [
    "## Reading 28 Return Concepts ##\n",
    "by Jerald E. Pinto, PhD, CFA, Elaine Henry, PhD, CFA,Thomas R. Robinson, PhD, CFA, and John D.Stowe, PhD, CFA"
   ]
  },
  {
   "cell_type": "markdown",
   "metadata": {},
   "source": [
    "### Required return"
   ]
  },
  {
   "cell_type": "markdown",
   "metadata": {},
   "source": [
    "#### 1. CAPM\n",
    "\n",
    "$Re= R_f +\\beta *ERP$\n",
    "\n",
    "##### ERP\n",
    "\n",
    "- Historical estimate: 3 issues:\n",
    "\n",
    "- Forward looking estimate:\n",
    " - GGM\n",
    " - Macroeconomic model: ERP=[(1+E_INFL)(1+EG_R_GDP)(1+EG_PE)-1]+E_INC-E_RF_R\n",
    " - Survey\n",
    " "
   ]
  },
  {
   "cell_type": "markdown",
   "metadata": {},
   "source": [
    "Using the constant growth dividend discount model (Gordon growth model), the equity risk premium can be presented as:\n",
    "\n",
    "Dividend yield on the index based on year-ahead aggregate forecasts\t3.0%\n",
    "plus consensus long-term earnings growth rate\t                  + 5.9%\n",
    "\n",
    "\n",
    "\n",
    "minus current long-term government bond yield.\t                   − 8.5%\n",
    "\n",
    "\n",
    "Equity risk premium =\t                                         = 0.4%\n",
    "\n",
    "A is incorrect because it incorrectly uses the South African risk-free rate: 3.0% + 5.9% − 5.0% = 3.9%.\n",
    "\n",
    "B is incorrect because it incorrectly uses the US long-term government bond yield: 3.0% + 5.9% − 3.5% = 5.4%."
   ]
  },
  {
   "cell_type": "markdown",
   "metadata": {},
   "source": [
    "#### Beta\n",
    " - Adjusted beta: 2/3 beta + 1/3\n",
    " - Pure-play beta : Public company to private company\n",
    " \n",
    "Unleverage: $\\beta_{asset}=\\frac{1}{1+D_1/E_1}\\beta_{eq1}$\n",
    "\n",
    "Releverage: $\\beta_{eq2}=(1+D_2/E_2)\\beta_{asset}$\n",
    "\n"
   ]
  },
  {
   "cell_type": "markdown",
   "metadata": {},
   "source": [
    "#### 2. Multiple factor model\n",
    "\n",
    "Fama French: $ R = Rf+ \\beta_{MR}RP_M+ \\beta_{SMB}RP_{SMB}+\\beta_{HML}RP_{HML}$\n",
    "\n",
    "PSM        : $ R = Rf+ \\beta_{MR}RP_M+ \\beta_{HML}RP_{HML}+\\beta_{BMS}RP_{BMS} + \\beta_{liq}RP_{liq}$"
   ]
  },
  {
   "cell_type": "markdown",
   "metadata": {},
   "source": [
    "#### 3. Buildup method"
   ]
  },
  {
   "cell_type": "markdown",
   "metadata": {},
   "source": [
    "P0=D1/(r-g) => r=D1/P0+g"
   ]
  },
  {
   "cell_type": "markdown",
   "metadata": {},
   "source": [
    "Blume's adjustment on beta: $adj \\beta = 2/3 original \\beta + 1/3$"
   ]
  },
  {
   "cell_type": "markdown",
   "metadata": {},
   "source": [
    "## Reading 29 Industry and Company Analysis ##\n",
    "by Matthew L. Coffina, CFA, Anthony M. Fiore, CFA, and Antonius J. van Ooijen, CFA"
   ]
  },
  {
   "cell_type": "markdown",
   "metadata": {},
   "source": [
    "#### Normalized EPS\n",
    "\n",
    "- Average EPS\n",
    "- Average ROE * Equity (most recent in sample)\n",
    "\n",
    "The average ROE over the most recent full cycle times the current book value is the most appropriate method to use to calculate normalized EPS in __cyclical__ industries when there have been changes in the company’s __size__, as is the case for Rapier and its asset growth.\n",
    "\n",
    "Even though the company is mid-cycle, the current EPS may not be the same as the average or normalized EPS over the cycle.\n",
    "\n",
    "Averaging the EPS over the cycle is one way to calculate normalized EPS in a cyclical industry but does not account for changes in the business’s size."
   ]
  },
  {
   "cell_type": "markdown",
   "metadata": {},
   "source": [
    "|Item |PB  | PE |PEG|\n",
    "|:--  |:---  |:-- |:--|\n",
    "|Advantage |BV normaly positive  |  ||\n",
    "|Disadvantage |BV deviate from FV: <br>Inflation, tech not considered <br>human capital  |  |growth is not constant|"
   ]
  },
  {
   "cell_type": "markdown",
   "metadata": {},
   "source": [
    "#### Trailing  P/E\n",
    "$Trailing  P/E = \\frac{P_0}{E_0}= \\frac{\\frac{D_0*(1+g)}{r-g}}{E_0}=\\frac{D_0/E_0*(1+g)}{r-g}=\\frac{(1-b)(1+g)}{r-g}$\n",
    "\n",
    "\n",
    "Trailing P/E = P0/E0, P/S=P0/S0=P0/E0xE0/S0=Trailing P/E x E0/S0\n",
    "\n",
    "#### Leading  P/E\n",
    "$Leading  P/E = \\frac{P_0}{E_1}= \\frac{\\frac{D_1}{r-g}}{E_1}=\\frac{D_1/E_1}{r-g}=\\frac{1-b}{r-g}$\n",
    "\n",
    "P/B=P0/B0=P0/E1xE1/B0= Leading P/E x E1/B0"
   ]
  },
  {
   "cell_type": "markdown",
   "metadata": {},
   "source": [
    "$Justified P/B = \\frac{P_0}{B_0}= \\frac{B_0+\\frac{B_0(ROE-r_e)}{r-g}}{B_0}=1+\\frac{ROE-r}{r-g}=\\frac{ROE-g}{r-g}$"
   ]
  },
  {
   "cell_type": "markdown",
   "metadata": {},
   "source": [
    "## Reading 30 Discounted Dividend Valuation ##\n",
    "by Jerald E. Pinto, PhD, CFA, Elaine Henry, PhD, CFA, Thomas R. Robinson, PhD, CFA, and John D. Stowe, PhD, CFA"
   ]
  },
  {
   "cell_type": "markdown",
   "metadata": {},
   "source": [
    "### PVGO\n",
    "\n",
    "$V_0=\\frac{E_1}{r}+PVGO, ==> PVGO= V_0-\\frac{E_1}{r} = P_0-\\frac{E_1}{r}$\n",
    "\n",
    "PVGO reflect full growth opportunities of future."
   ]
  },
  {
   "cell_type": "markdown",
   "metadata": {},
   "source": [
    "### H model\n",
    "\n",
    "$V_0=\\frac{D_0*(1+g_L)}{r-g_L}+\\frac{D_0}{r-g_L}*(g_S-g_L)*t/2$\n",
    "\n",
    "$r=\\frac{D_0}{P_0}[(1+g_L)+H(g_S−g_L)]+g_L$"
   ]
  },
  {
   "cell_type": "markdown",
   "metadata": {},
   "source": [
    "## Reading 31 Free Cash Flow Valuation ##\n",
    "by Jerald E. Pinto, PhD, CFA, Elaine Henry, PhD, CFA,Thomas R. Robinson, PhD, CFA, and John D.Stowe, PhD, CFA"
   ]
  },
  {
   "cell_type": "markdown",
   "metadata": {},
   "source": [
    "### FCFF\n",
    "\n",
    "$FCFF= (NI+NCC-WC_{INV})+INT(1-T)-FC_{INV}$\n",
    "\n",
    "$FCFF= EBIT(1-T)+NCC-FC_{INV}-WC_{INV}$\n",
    "\n",
    "$FCFF= EBITDA(1-T)+NCC*T-FC_{INV}-WC_{INV}$\n",
    "\n",
    "$FCFF= CFO+INT(1-T)-FC_{INV}$"
   ]
  },
  {
   "cell_type": "markdown",
   "metadata": {},
   "source": [
    "### FCFE\n",
    "\n",
    "$FCFE= (NI+NCC-WC_{INV})-FC_{INV}+NB$\n",
    "\n",
    "   $=NI-(1-DR)(FC_{INV}-NCC+WC_{INV})$\n",
    "\n",
    "   $=NI+NCC-WC_{INV}-FC_{INV}+(WC_{INV}+FC_{INV}-NCC)*DR$\n",
    "\n",
    "$FCFE= EBIT(1-T)-INT(1-T)+NCC-FC_{INV}-WC_{INV}+NB$\n",
    "\n",
    "$FCFE= EBITDA(1-T)-INT(1-T)+NCC*T-FC_{INV}-WC_{INV}+NB$\n",
    "\n",
    "$FCFE= CFO-FC_{INV}+NB$\n",
    "\n",
    "$WC_{INV}=\\Delta WC=\\Delta C.A- \\Delta C.L$"
   ]
  },
  {
   "cell_type": "markdown",
   "metadata": {},
   "source": [
    "### NCC\n",
    "\n",
    " - +depreciation\n",
    " - +amortization of intangibles\n",
    " - +non cash losses from restructuring charges\n",
    " - +loss/-gains on sales of LTA\n",
    " - +amortization of LTD discount (- amort of LTD premium)\n",
    " - +DTL +DTL\n",
    " "
   ]
  },
  {
   "cell_type": "code",
   "execution_count": 16,
   "metadata": {},
   "outputs": [
    {
     "name": "stdout",
     "output_type": "stream",
     "text": [
      "|                 |                |                |\n",
      "| :---------------|:---------------|:---------------|\n",
      "|                 |                |                |\n",
      "|                 |                |                |\n",
      "|                 |                |                |\n",
      "|                 |                |                |\n",
      "|                 |                |                |\n"
     ]
    }
   ],
   "source": [
    "def printtable(rows, cols):\n",
    "    print '|',\"                |\"*cols\n",
    "    print '|',\":---------------|\"*cols\n",
    "    for i in range(rows):\n",
    "        print \"|\" ,\"                |\"*cols\n",
    "        \n",
    "printtable(5,3)        "
   ]
  },
  {
   "cell_type": "markdown",
   "metadata": {},
   "source": [
    "|FCInv            | No Disposal                    | With disposal                  |\n",
    "| :---------------|:---------------                |:---------------                |\n",
    "|FCInv from Capex |FCInv = Capex                   |FCInv = Capex-Proceeds disposal |\n",
    "|FCInv from G PP&E|***FCInv = GVe-GVb***           |***Capex=GVe+GVdisposal-GVb***   (1)  |\n",
    "|FCInv from N PP&E| = (BVe+ADe)-(BVb+ADb)          |     =BVe+ADe+BVdis+ADdis-BVb-ADb|\n",
    "|                 | = (BVe-BVb)+(ADe-ADb)          |     =BVe+BVdis-BVb+ADe+ADdis-ADb|\n",
    "|                 | ***= BVe-BVb+DeprExpense***          |     =BVe+BVdis-BVb+DeprExpsense (1)|\n",
    "|Gross PP&Ee (GV) |Capex=GVe-GVb                   |                                |\n",
    "|Gross PP&Ee (GV) |GVe=NVe+ADe                     |                                |\n",
    "|Depr Expense     |Depr Expense=ADe-ADb            |Depr Expense=ADe+ADdisposal-ADb |\n",
    "|Proceeds         |                                |Proceeds=BVdisposal+Gain   (2)  |\n",
    "|FCInv from BV    |                                |(1)-(2):<br>***FCInv=BVe-BVb+DepExp-Gain***  |"
   ]
  },
  {
   "cell_type": "markdown",
   "metadata": {},
   "source": [
    "## Reading 32 Market-Based Valuation: Price and Enterprise Value Multiples ##\n",
    "by Jerald E. Pinto, PhD, CFA, Elaine Henry, PhD, CFA, Thomas R. Robinson, PhD, CFA, and John D.Stowe, PhD, CFA"
   ]
  },
  {
   "cell_type": "markdown",
   "metadata": {},
   "source": [
    "### harmonic mean\n",
    "\n",
    "The weighted harmonic mean is the value obtained by calculating the weighted average (based on market capitalization weights) of the reciprocals of the observations (the P/E) and then taking the reciprocal of the average. The weighted harmonic mean for Zhang’s index in Exhibit 2 is calculated as follows:\n",
    "\n",
    "\n",
    "| |(1)|(2)|(3)|(4)|(5)|\n",
    "|:----|:----|:----|:----|:----|:----|\n",
    "|Index|Market Cap ($ millions) (Ex 2)|Market Cap \\% Using Column 1 (Weighting)|P/E (Ex 2)|1/(P/E) 1 ÷ (3) (Reciprocal)|Weighted Harmonic Mean (2) × (4)|\n",
    "|FAF Inc.|5.81|0.3|12.9|0.077519|0.0002|\n",
    "|Mila Industries Inc.|26.21|1.4|12.4|0.080645|0.0011|\n",
    "|Watson Brothers Co.|545.62|29.4|5.2|0.192308|0.0566|\n",
    "|Lane Foods Ltd.|700.15|37.8|21.1|0.047393|0.0179|\n",
    "|Delta Delights Inc.|575.53|31.1|18.4|0.054348|0.0169|\n",
    "|Total|1,853.32|100\\%| | |0.0928|\n",
    "|Average (arithmetic mean)| | |14.00| | |\n",
    "|Weighted harmonic mean| ||||1 ÷ (0.0928) = 10.8|"
   ]
  },
  {
   "cell_type": "markdown",
   "metadata": {},
   "source": [
    "### EV/EBITDA\n",
    "\n",
    "|Step 1: Calculate Enterprise Value|Step 2: Calculate EBITDA|\n",
    "|:-----|:-----|\n",
    "|Enterprise value = EV =|EBITDA =|\n",
    "|MV of common equity\t5,284|Net income\t446|\n",
    "|+ MV of preferred stock\t+ 1,210|+ Interest expense\t+ 161|\n",
    "|+ MV of debt\t+ 2,687|+ Taxes\t+ 964|\n",
    "|− Cash and cash equivalents\t− 1,260\t|+ Depreciation and amortization\t+ 171|\n",
    "|− Short term investments\t− 486\t|EBITDA =\t= 1,742|\n",
    "|Enterprise value =\t= 7,435||\n",
    " "
   ]
  },
  {
   "cell_type": "markdown",
   "metadata": {},
   "source": [
    "### GPCM GTM\n",
    "\n",
    "GPCM: Guidleline Public Company Method, no control\n",
    "\n",
    "GTM: Guidleline Transaction Method, acquisition of control\n",
    "\n",
    "PTM: Previous Transaction Method"
   ]
  },
  {
   "cell_type": "markdown",
   "metadata": {},
   "source": [
    "## Reading 33 Residual Income Valuation ##\n",
    "by Jerald E. Pinto, PhD, CFA, Elaine Henry, PhD, CFA, Thomas R. Robinson, PhD, CFA, and John D.Stowe, PhD, CFA"
   ]
  },
  {
   "cell_type": "markdown",
   "metadata": {},
   "source": [
    "$RI_t=NI_t-Equity_{t-1}*Re$\n",
    "\n",
    "EVA = NOPAT - WACC*Capital\n",
    "\n",
    "    = EBIT(1-t)-$WACC\n",
    "    \n",
    "MVA = Market Value - Total Capital"
   ]
  },
  {
   "cell_type": "markdown",
   "metadata": {},
   "source": [
    "### Single Stage\n",
    "\n",
    "$V_0=B_0+\\frac{RI_0*(1+g)}{r-g}$\n",
    "\n",
    "...$=B_0+\\frac{RI_1}{r-g}$\n",
    "\n",
    "...$=B_0+\\frac{NI_1-B_0*R_e}{r-g}$\n",
    "\n",
    "...$=B_0+\\frac{B_0*ROE-B_0*R_e}{r-g}$\n",
    "\n",
    "...$=B_0+\\frac{(ROE-r)*B_0}{r-g}$\n",
    "\n",
    "Assumes:\n",
    "- Constant ROE\n",
    "- Constant earnings growth, RI persits indefinitely\n",
    "- Intrinsic value = market value\n",
    "\n",
    "\n",
    "Implied growth:\n",
    "\n",
    "$g=r-\\frac{B_0(ROE-r)}{V_0-B_0}$"
   ]
  },
  {
   "cell_type": "markdown",
   "metadata": {},
   "source": [
    "### Multistage RI\n",
    "\n",
    "1. RI continues indefinitely at a persistent level\n",
    "2. RI is 0 from terminal year forward\n",
    "3. RI declines to 0 as ROE reverts to the Re\n",
    "4. RI declines over time as ROE falls to a certain level\n",
    "\n",
    "Two stage RI is the sum of:\n",
    "1. B0\n",
    "2. One stage PVRI0: g\n",
    "3. 2nd stage PV\n",
    "  1. $\\frac{RI_3}{r}\\div (1+r)^3, \\omega=1$\n",
    "  2. 0, $\\omega=0$\n",
    "  3. $\\frac{RI_3*\\omega}{1+r-\\omega}\\div (1+r)^3, 0<\\omega<1$\n",
    "  "
   ]
  },
  {
   "cell_type": "markdown",
   "metadata": {},
   "source": [
    "### Clean surplus relationship\n",
    "\n",
    "There is no clean surplus violation if the ending book value of equity is equal to the beginning book value plus earnings minus dividends, apart from ownership transactions.\n",
    "\n",
    " - Not affect OCI:Marketable securities classified as available-for-sale\n",
    " \n",
    "In the ordinary course of business, non-domestic currency transactions with customers and suppliers (resulting from import purchase or export sale) are accounted for on both the income statement and balance sheet at fair value, and hence they do not violate clean surplus accounting. The other two items examined would affect other comprehensive income and hence violate the equity clean surplus relationship.\n",
    "\n",
    "- Affect OCI\n",
    "   - Non-domestic currency transactions with customers and suppliers\n",
    "   \n",
    "Although available for sale marketable securities are measured at fair market value on the balance sheet, any unrealized gains and losses that arise bypass the income statement and are reported in equity as a component of other comprehensive income thereby violating the clean surplus relationship.\n",
    "\n",
    "   - Non-domestic currency translation adjustments from the consolidation of any self-sustaining subsidiary companies (for which the local currency is the functional currency)\n",
    "   \n",
    "Financial statements of self-sustaining subsidiaries will be translated using the current rate method and any foreign exchange gains and losses will bypass the income statement and go into other comprehensive income, thus violating the clean surplus relationship.\n",
    "\n"
   ]
  },
  {
   "cell_type": "markdown",
   "metadata": {},
   "source": [
    "## Reading 34 Private Company Valuation ##\n",
    "by Raymond D. Rath, ASA, CFA"
   ]
  },
  {
   "cell_type": "markdown",
   "metadata": {
    "collapsed": true
   },
   "source": [
    "Excess Earnings = Total Earnings - WC Earnings - FC Earnings"
   ]
  },
  {
   "cell_type": "markdown",
   "metadata": {
    "collapsed": true
   },
   "source": [
    "### Asset-based approach\n",
    "\n",
    "|Statment|Judge|\n",
    "|:------|:------|\n",
    "|reflects the value of the assets to a potential buyer, not the value to the company itself;|Correct. The value of a company in liquidation reflects the assumption that the assets might be redeployed by buyers to higher valued uses. This is one reason why its value as a going concern might be less than its value in liquidation.|\n",
    "|is inappropriate for real estate investment trusts (e.g., REITs); |Incorrect. the asset-based approach may be appropriate for the valuation of investment companies, such as real estate investment trusts (REITs). For these entities, the underlying assets typically consist of real estate holdings that were valued using the market and/or income approaches.|\n",
    "|is applied frequently to early stage companies with limited tangible value.|Incorrect. companies with limited tangible value would be less appropriately valued by an asset-based method. This approach may also be appropriate for very small businesses with limited intangible value or early stage companies.|\n",
    "\n"
   ]
  },
  {
   "cell_type": "markdown",
   "metadata": {},
   "source": [
    "### estimating required rate of return between the two countries\n",
    "“In regard to estimating the required rate of return for the South African and Canadian equity markets,” Kim says, “I believe the most important adjustments will be:\n",
    "\n",
    " - accounting for differences in GDP growth rates,\n",
    " - incorporating exchange rate forecasts into the calculations, and\n",
    " - including a country premium for stocks in South Africa.”\n",
    " \n",
    " A:\n",
    " \n",
    " Differences in GDP growth rates between countries may exist, but this is not an important consideration specific to estimating required rate of return between the two countries. Both exchange rates and model issues in emerging markets are important considerations that concern analysts estimating required returns in a global context."
   ]
  },
  {
   "cell_type": "code",
   "execution_count": null,
   "metadata": {
    "collapsed": true
   },
   "outputs": [],
   "source": []
  }
 ],
 "metadata": {
  "kernelspec": {
   "display_name": "Python 2",
   "language": "python",
   "name": "python2"
  },
  "language_info": {
   "codemirror_mode": {
    "name": "ipython",
    "version": 2
   },
   "file_extension": ".py",
   "mimetype": "text/x-python",
   "name": "python",
   "nbconvert_exporter": "python",
   "pygments_lexer": "ipython2",
   "version": "2.7.13"
  }
 },
 "nbformat": 4,
 "nbformat_minor": 2
}
