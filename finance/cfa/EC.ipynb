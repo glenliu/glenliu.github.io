{
 "cells": [
  {
   "cell_type": "markdown",
   "metadata": {},
   "source": [
    "# Economics #"
   ]
  },
  {
   "cell_type": "markdown",
   "metadata": {},
   "source": [
    "## Reading 13 Currency Exchange Rates: Understanding Equilibrium Value ##\n",
    "by Michael R. Rosenberg and William A. Barker, CFA"
   ]
  },
  {
   "cell_type": "markdown",
   "metadata": {},
   "source": [
    "### 1. Covered IRP"
   ]
  },
  {
   "cell_type": "markdown",
   "metadata": {},
   "source": [
    "### 2. Uncovered IRP\n",
    "\n",
    "\n",
    "\n",
    "- $S_0{(\\frac{1+Rx}{1+Ry})}^t=E(S_i)$\n",
    "\n",
    "- Risk neutral assumption\n",
    "\n",
    "- Doesn't hold in ST, but hold in LT"
   ]
  },
  {
   "cell_type": "markdown",
   "metadata": {},
   "source": [
    "### 3. Intl Fisher\n",
    "\n",
    "\n",
    "\n",
    " - Assumption: Same real rate\n",
    "\n",
    "\n",
    "\n",
    " - $R_x-R_y~=I_x^e-I_y^e$"
   ]
  },
  {
   "cell_type": "markdown",
   "metadata": {},
   "source": [
    " \n",
    "\n",
    "### 4. Relative PPP\n",
    "\n",
    "\n",
    "\n",
    "$\\Delta\\%FX~=I_x^e-I_y^e$\n",
    "\n",
    "\n",
    "\n",
    "- Ex-post: St\n",
    "\n",
    "- Ex-ante: E(St)"
   ]
  },
  {
   "cell_type": "markdown",
   "metadata": {},
   "source": [
    "### 5. Relationship of 3 formulas"
   ]
  },
  {
   "cell_type": "markdown",
   "metadata": {},
   "source": [
    "### FX rate determination models\n",
    "\n",
    " \n",
    " - Monetary expansion => r $\\downarrow$=>capital outflow=>$FX_d\\downarrow$\n",
    " \n",
    " - Fiscal expansion\n",
    "   - F.A: =>r $\\uparrow$-> capital inflow -> $FX_d\\uparrow$\n",
    "   - C.A: =>import $\\uparrow$-> deficient -> $FX_d\\downarrow$\n",
    "   \n",
    "FX Regime - Flexible, high mobility\n",
    "\n",
    " |Policy                                       |Expansionary Monetary|Restrictive Monetary|\n",
    " |:---------                                   |:----------------    |:-----------------  |\n",
    " |Expansionary Fiscal<br>High mobile=>F.A>C.A  |undeterminate        |$FX_d\\uparrow$      |\n",
    " |Restrictive Fiscal                           |$FX_d\\downarrow$     |undeterminate       |\n",
    " \n",
    "FX Regime - Flexible, low mobility\n",
    "\n",
    " |Policy                                       |Expansionary Monetary|Restrictive Monetary|\n",
    " |:---------                                   |:----------------    |:-----------------  |\n",
    " |Expansionary Fiscal<br>Low mobile=>C.A>F.A   |$FX_d\\downarrow$     |undeterminate       |\n",
    " |Restrictive Fiscal                           |undeterminate        |$FX_d\\uparrow$      |\n",
    "\n",
    " \n",
    "FX Regime - Fixed, high mobility\n",
    "\n",
    " |Policy                                       |Logic |Conclusion|\n",
    " |:---------                                   |:----------------    |:-----------------  |\n",
    " |Expansionary Monetary   |r $\\downarrow$->capital outflow->$FX_d\\downarrow$ ->Central bank buy domestic to stablize FX->monetary shrink     |not work     |\n",
    " |Expansionary Fiscal <br>High mobile=>F.A>C.A |r $\\uparrow$-> capital inflow -> $FX_d\\uparrow$ ->Central bank sell domestic to stablize FX->monetary expansion                    |double expansion     |"
   ]
  },
  {
   "cell_type": "markdown",
   "metadata": {},
   "source": [
    "## Reading 14 Economic Growth and the Investment Decision ##\n",
    "by Paul Kutasovic, PhD, CFA"
   ]
  },
  {
   "cell_type": "code",
   "execution_count": 1,
   "metadata": {},
   "outputs": [
    {
     "name": "stdout",
     "output_type": "stream",
     "text": [
      "|                 |                |                |\n",
      "| :---------------|:---------------|:---------------|\n",
      "|                 |                |                |\n",
      "|                 |                |                |\n",
      "|                 |                |                |\n",
      "|                 |                |                |\n",
      "|                 |                |                |\n"
     ]
    }
   ],
   "source": [
    "def printtable(rows, cols):\n",
    "    print '|',\"                |\"*cols\n",
    "    print '|',\":---------------|\"*cols\n",
    "    for i in range(rows):\n",
    "        print \"|\" ,\"                |\"*cols\n",
    "        \n",
    "printtable(5,3)   "
   ]
  },
  {
   "cell_type": "markdown",
   "metadata": {},
   "source": [
    "|Formula                     |Meaning                |Growth perpspective                |\n",
    "| :---------------           |:---------------       |:---------------|\n",
    "|$Y=AK^\\alpha L^{1-\\alpha}$  | Total output          |$\\Delta \\%Y=\\Delta \\%T+\\alpha \\Delta \\%K+(1-\\alpha)\\Delta \\%L$ | \n",
    "|$y=Ak^\\alpha$               |Output per labor       |$\\Delta \\%y=\\Delta \\%T +\\alpha \\Delta \\%k$            |\n",
    "|$Y=\\frac{Y}{L} L=yL$                  |Total output                |$\\Delta \\%Y=\\Delta \\%y + \\Delta \\%L$           |\n",
    "|Neoclassical, assume  $\\Delta \\%y=\\Delta \\%k$               |Equilibrium sustainable growth of output per capita               |$\\Delta \\%y=\\frac{\\Delta \\%T}{1-\\alpha}, g^*=\\frac{\\theta}{1-\\alpha}$                 |\n",
    "|$\\Delta \\%Y=\\Delta \\%y + \\Delta \\%L$                  |Equilibrium sustainable growth of output                  |$\\Delta \\%Y=\\frac{\\Delta \\%T}{1-\\alpha}+\\Delta \\%L, G^*=\\frac{\\theta}{1-\\alpha}+\\Delta \\%L$                 |\n",
    "|Y|Total output||\n",
    "|y|Output per capita||\n",
    "|$\\alpha$|Share of output paid to capital||\n",
    "|A, T|TFP, Total factor productivity|Upward shift production functioin<br>|\n",
    "|k|Amount of capital available for each worker, capital deepening|Move along production function<br>diminishing margin effect|"
   ]
  },
  {
   "cell_type": "markdown",
   "metadata": {},
   "source": [
    "## Reading 15 Economics of Regulation ##\n",
    "by Chester S. Spatt, PhD"
   ]
  },
  {
   "cell_type": "code",
   "execution_count": null,
   "metadata": {
    "collapsed": true
   },
   "outputs": [],
   "source": []
  }
 ],
 "metadata": {
  "kernelspec": {
   "display_name": "Python 2",
   "language": "python",
   "name": "python2"
  },
  "language_info": {
   "codemirror_mode": {
    "name": "ipython",
    "version": 2
   },
   "file_extension": ".py",
   "mimetype": "text/x-python",
   "name": "python",
   "nbconvert_exporter": "python",
   "pygments_lexer": "ipython2",
   "version": "2.7.13"
  }
 },
 "nbformat": 4,
 "nbformat_minor": 2
}
